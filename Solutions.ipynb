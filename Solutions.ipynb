{
 "cells": [
  {
   "cell_type": "markdown",
   "id": "63e050f9",
   "metadata": {},
   "source": [
    "Importing Numpy, Pandas, Matplotlib Pyplot, Seaborn"
   ]
  },
  {
   "cell_type": "code",
   "execution_count": 100,
   "id": "21e26331",
   "metadata": {},
   "outputs": [],
   "source": [
    "import matplotlib.pyplot as plt\n",
    "import pandas as pd\n",
    "import plotly.express as px\n",
    "import numpy as np\n",
    "import seaborn as sn"
   ]
  },
  {
   "cell_type": "markdown",
   "id": "c63c9e30",
   "metadata": {},
   "source": [
    "Creating DataFrame"
   ]
  },
  {
   "cell_type": "code",
   "execution_count": 101,
   "id": "4b2b6a06",
   "metadata": {},
   "outputs": [
    {
     "name": "stdout",
     "output_type": "stream",
     "text": [
      "        Date                                   IPO_Name  Issue_Size(crores)  \\\n",
      "0 2025-08-06                      M & B Engineering Ltd              650.00   \n",
      "1 2025-08-06          Sri Lotus Developers & Realty Ltd              792.00   \n",
      "2 2025-08-06  National Securities Depository Ltd (NSDL)             4011.60   \n",
      "3 2025-08-05                        Aditya Infotech Ltd             1300.00   \n",
      "4 2025-08-05                    Laxmi India Finance Ltd              254.26   \n",
      "\n",
      "      QIB    HNI    RII   Total  Offer Price  List Price  Listing Gain  ...  \\\n",
      "0   36.72  38.24  32.55   36.20          385       386.0          0.26  ...   \n",
      "1  163.90  57.71  20.28   69.14          150       179.1         19.40  ...   \n",
      "2  103.97  34.98   7.73   41.01          800       880.0         10.00  ...   \n",
      "3  133.21  72.00  50.87  100.69          675      1018.0         50.81  ...   \n",
      "4    1.30   1.84   2.22    1.87          158       136.0        -13.92  ...   \n",
      "\n",
      "   CMP(NSE)  Current Gains  Unnamed: 13  Unnamed: 14  Unnamed: 15  \\\n",
      "0    426.15          10.87          NaN          NaN          NaN   \n",
      "1    199.72          34.07          NaN          NaN          NaN   \n",
      "2     61.76            NaN          NaN          NaN          NaN   \n",
      "3   1062.70          57.72          NaN          NaN          NaN   \n",
      "4    150.00          -5.70          NaN          NaN          NaN   \n",
      "\n",
      "   Unnamed: 16  Unnamed: 17  Unnamed: 18  Unnamed: 19  Unnamed: 20  \n",
      "0          NaN          NaN          NaN          NaN          NaN  \n",
      "1          NaN          NaN          NaN          NaN          NaN  \n",
      "2          NaN          NaN          NaN          NaN          NaN  \n",
      "3          NaN          NaN          NaN          NaN          NaN  \n",
      "4          NaN          NaN          NaN          NaN          NaN  \n",
      "\n",
      "[5 rows x 21 columns]\n"
     ]
    }
   ],
   "source": [
    "IPO_df = pd.read_excel('D:/Initial Public Offering.xlsx')\n",
    "\n",
    "print(IPO_df.head(5))"
   ]
  },
  {
   "cell_type": "markdown",
   "id": "564541d6",
   "metadata": {},
   "source": [
    "How many missing values are present in each column, and how should they be handled?\n"
   ]
  },
  {
   "cell_type": "code",
   "execution_count": 102,
   "id": "5a0297b1",
   "metadata": {},
   "outputs": [
    {
     "name": "stdout",
     "output_type": "stream",
     "text": [
      "Date                    0\n",
      "IPO_Name                0\n",
      "Issue_Size(crores)      0\n",
      "QIB                     2\n",
      "HNI                     2\n",
      "RII                     2\n",
      "Total                   2\n",
      "Offer Price             0\n",
      "List Price              0\n",
      "Listing Gain            0\n",
      "CMP(BSE)                2\n",
      "CMP(NSE)               10\n",
      "Current Gains           3\n",
      "Unnamed: 13           561\n",
      "Unnamed: 14           561\n",
      "Unnamed: 15           561\n",
      "Unnamed: 16           561\n",
      "Unnamed: 17           561\n",
      "Unnamed: 18           561\n",
      "Unnamed: 19           561\n",
      "Unnamed: 20           560\n",
      "dtype: int64\n",
      "Date                  0\n",
      "IPO_Name              0\n",
      "Issue_Size(crores)    0\n",
      "QIB                   0\n",
      "HNI                   0\n",
      "RII                   0\n",
      "Total                 0\n",
      "Offer Price           0\n",
      "List Price            0\n",
      "Listing Gain          0\n",
      "CMP(BSE)              0\n",
      "CMP(NSE)              0\n",
      "Current Gains         0\n",
      "dtype: int64\n"
     ]
    }
   ],
   "source": [
    "print(IPO_df.isnull().sum())\n",
    "IPO_df = IPO_df.dropna(axis=1, how='all')\n",
    "IPO_df = IPO_df.drop(['Unnamed: 20'], axis=1)\n",
    "IPO_df = IPO_df.fillna(0)\n",
    "print(IPO_df.isnull().sum())\n",
    "\n"
   ]
  },
  {
   "cell_type": "markdown",
   "id": "c5e8bc4a",
   "metadata": {},
   "source": [
    "Are there any incorrect or inconsistent data types in the dataset (e.g., numeric columns stored as strings)?\n"
   ]
  },
  {
   "cell_type": "code",
   "execution_count": 103,
   "id": "eafd685e",
   "metadata": {},
   "outputs": [
    {
     "name": "stdout",
     "output_type": "stream",
     "text": [
      "<class 'pandas.core.frame.DataFrame'>\n",
      "RangeIndex: 561 entries, 0 to 560\n",
      "Data columns (total 13 columns):\n",
      " #   Column              Non-Null Count  Dtype         \n",
      "---  ------              --------------  -----         \n",
      " 0   Date                561 non-null    datetime64[ns]\n",
      " 1   IPO_Name            561 non-null    object        \n",
      " 2   Issue_Size(crores)  561 non-null    float64       \n",
      " 3   QIB                 561 non-null    float64       \n",
      " 4   HNI                 561 non-null    float64       \n",
      " 5   RII                 561 non-null    float64       \n",
      " 6   Total               561 non-null    float64       \n",
      " 7   Offer Price         561 non-null    int64         \n",
      " 8   List Price          561 non-null    float64       \n",
      " 9   Listing Gain        561 non-null    float64       \n",
      " 10  CMP(BSE)            561 non-null    float64       \n",
      " 11  CMP(NSE)            561 non-null    float64       \n",
      " 12  Current Gains       561 non-null    float64       \n",
      "dtypes: datetime64[ns](1), float64(10), int64(1), object(1)\n",
      "memory usage: 57.1+ KB\n",
      "None\n"
     ]
    }
   ],
   "source": [
    "print(IPO_df.info())"
   ]
  },
  {
   "cell_type": "markdown",
   "id": "bf364a8a",
   "metadata": {},
   "source": [
    "How can we calculate new columns such as Avg_CMP, Listing_Return_%, and Current_Return_%?\n"
   ]
  },
  {
   "cell_type": "code",
   "execution_count": 104,
   "id": "1a837e39",
   "metadata": {},
   "outputs": [
    {
     "name": "stdout",
     "output_type": "stream",
     "text": [
      "        Date                           IPO_Name  Issue_Size(crores)     QIB  \\\n",
      "0 2025-08-06              M & B Engineering Ltd               650.0   36.72   \n",
      "1 2025-08-06  Sri Lotus Developers & Realty Ltd               792.0  163.90   \n",
      "\n",
      "     HNI    RII  Total  Offer Price  List Price  Listing Gain  CMP(BSE)  \\\n",
      "0  38.24  32.55  36.20          385       386.0          0.26    426.85   \n",
      "1  57.71  20.28  69.14          150       179.1         19.40    201.10   \n",
      "\n",
      "   CMP(NSE)  Current Gains  Avg_cmp  Listing_Return_%  Current_Returns %  \n",
      "0    426.15          10.87   426.50              0.26              10.78  \n",
      "1    199.72          34.07   200.41             19.40              33.61  \n"
     ]
    }
   ],
   "source": [
    "IPO_df['Avg_cmp'] = (IPO_df['CMP(BSE)'] + IPO_df['CMP(NSE)'])/2\n",
    "# print(IPO_df.head(2))\n",
    "\n",
    "IPO_df['Listing_Return_%'] = round(((IPO_df['List Price'] - IPO_df['Offer Price']) / IPO_df['Offer Price']) * 100, 2)\n",
    "# print(IPO_df.head(2))\n",
    "\n",
    "IPO_df['Current_Returns %'] = round(((IPO_df['Avg_cmp']-IPO_df['Offer Price'])/IPO_df['Offer Price'])*100, 2)\n",
    "IPO_df.to_excel('IPO.xlsx')\n",
    "print(IPO_df.head(2))"
   ]
  },
  {
   "cell_type": "markdown",
   "id": "33765e4b",
   "metadata": {},
   "source": [
    "How many unique IPOs are there in the dataset?\n"
   ]
  },
  {
   "cell_type": "code",
   "execution_count": 105,
   "id": "f5dbc68b",
   "metadata": {},
   "outputs": [
    {
     "name": "stdout",
     "output_type": "stream",
     "text": [
      "561\n"
     ]
    }
   ],
   "source": [
    "print(IPO_df['IPO_Name'].count())"
   ]
  },
  {
   "cell_type": "markdown",
   "id": "2f48cc0a",
   "metadata": {},
   "source": [
    "What is the date range of IPOs available in the dataset?\n"
   ]
  },
  {
   "cell_type": "code",
   "execution_count": 106,
   "id": "1bf84d2f",
   "metadata": {},
   "outputs": [
    {
     "name": "stdout",
     "output_type": "stream",
     "text": [
      "Earliest IPO Date 2010-01-04 00:00:00\n",
      "Latest IPO Date 2025-08-06 00:00:00\n"
     ]
    }
   ],
   "source": [
    "IPO_df['Date'] = pd.to_datetime(IPO_df['Date'], errors='coerce')\n",
    "\n",
    "start_date = IPO_df['Date'].min()\n",
    "end_date = IPO_df['Date'].max()\n",
    "\n",
    "print('Earliest IPO Date', start_date)\n",
    "print('Latest IPO Date', end_date)"
   ]
  },
  {
   "cell_type": "markdown",
   "id": "d63199ba",
   "metadata": {},
   "source": [
    "Which IPOs had the highest and lowest listing gains?\n"
   ]
  },
  {
   "cell_type": "code",
   "execution_count": 107,
   "id": "3bf4c7c9",
   "metadata": {},
   "outputs": [
    {
     "name": "stdout",
     "output_type": "stream",
     "text": [
      "Highest Listing Gain Is: 252.76\n",
      "Lowest Listing Gain Is:  0.02\n"
     ]
    }
   ],
   "source": [
    "highest_listing_gain = IPO_df['Listing Gain'].max()\n",
    "lowest_listing_gain = IPO_df[IPO_df['Listing Gain']>0]['Listing Gain'].min()\n",
    "\n",
    "print('Highest Listing Gain Is:', highest_listing_gain)\n",
    "print('Lowest Listing Gain Is: ', lowest_listing_gain)"
   ]
  },
  {
   "cell_type": "markdown",
   "id": "d85bdae9",
   "metadata": {},
   "source": [
    "Which IPOs had the highest and lowest current gains?\n"
   ]
  },
  {
   "cell_type": "code",
   "execution_count": 108,
   "id": "41b3a655",
   "metadata": {},
   "outputs": [
    {
     "name": "stdout",
     "output_type": "stream",
     "text": [
      "Highet_Current_Gain: 2523.67\n",
      "Highest_Current_Gain:  0.13\n"
     ]
    }
   ],
   "source": [
    "highest_current_gain = IPO_df['Current Gains'].max()\n",
    "lowest_current_gain = IPO_df[IPO_df['Current Gains']>0]['Current Gains'].min()\n",
    "\n",
    "print('Highet_Current_Gain:', highest_current_gain)\n",
    "print('Highest_Current_Gain: ', lowest_current_gain)"
   ]
  },
  {
   "cell_type": "markdown",
   "id": "4b51a37e",
   "metadata": {},
   "source": [
    "Is there a correlation between subscription levels (QIB, HNI, RII) and listing gains?\n"
   ]
  },
  {
   "cell_type": "code",
   "execution_count": 109,
   "id": "339bbbfe",
   "metadata": {},
   "outputs": [
    {
     "name": "stdout",
     "output_type": "stream",
     "text": [
      "                   QIB       HNI       RII  Listing Gain\n",
      "QIB           1.000000  0.613963  0.438198      0.622133\n",
      "HNI           0.613963  1.000000  0.542704      0.629242\n",
      "RII           0.438198  0.542704  1.000000      0.516083\n",
      "Listing Gain  0.622133  0.629242  0.516083      1.000000\n"
     ]
    },
    {
     "data": {
      "image/png": "[encoded data removed]",
      "text/plain": [
       "<Figure size 800x500 with 2 Axes>"
      ]
     },
     "metadata": {},
     "output_type": "display_data"
    }
   ],
   "source": [
    "col_of_interest = ['QIB', 'HNI', 'RII', 'Listing Gain']\n",
    "subset_df = IPO_df[col_of_interest]\n",
    "\n",
    "correlation_matrix = subset_df.corr()\n",
    "correlation_matrix.to_excel('Correlation between subscription Levels and Listing Gains.xlsx')\n",
    "print(correlation_matrix)\n",
    "\n",
    "\n",
    "# +1 → Strong positive correlation\n",
    "# 0 → No correlation\n",
    "# -1 → Strong negative correlation\n",
    "\n",
    "plt.figure(figsize=(8,5))\n",
    "sn.heatmap(correlation_matrix, annot=True, cmap='coolwarm', fmt=\".2f\")\n",
    "plt.title(\"Correlation between Subscription Levels and Listing Gains\")\n",
    "plt.savefig('Correlation between subscription Levels and Listing Gains.png')\n",
    "plt.show()\n"
   ]
  },
  {
   "cell_type": "markdown",
   "id": "396cab87",
   "metadata": {},
   "source": [
    "Does a higher total subscription ratio lead to a higher listing gain?\n"
   ]
  },
  {
   "cell_type": "code",
   "execution_count": 110,
   "id": "b67fc64f",
   "metadata": {},
   "outputs": [
    {
     "name": "stdout",
     "output_type": "stream",
     "text": [
      "Correlation Between Total Subscription and Listing Gain (%): 0.702286282824258\n"
     ]
    }
   ],
   "source": [
    "IPO_df['Total_Subscription'] = IPO_df[['QIB', 'HNI', 'RII']].mean(axis=1)\n",
    "\n",
    "correlation = IPO_df['Total_Subscription'].corr(IPO_df['Listing_Return_%'])\n",
    "\n",
    "print('Correlation Between Total Subscription and Listing Gain (%):', correlation)\n",
    "\n",
    "# > 0.7 → Strong positive relationship (higher subscription → higher gain)\n",
    "# 0.3–0.7 → Moderate positive relationship\n",
    "# < 0.3 → Weak or no correlation"
   ]
  },
  {
   "cell_type": "markdown",
   "id": "27fd5ed9",
   "metadata": {},
   "source": [
    "How does issue size relate to IPO performance (listing and current gains)?\n"
   ]
  },
  {
   "cell_type": "code",
   "execution_count": 111,
   "id": "d078499b",
   "metadata": {},
   "outputs": [
    {
     "name": "stdout",
     "output_type": "stream",
     "text": [
      "Correlation between issue size and Listing Gain(%):  -0.09343156555858793\n",
      "Correlation between issue size and Current Gain(%):  -0.032754064768074416\n"
     ]
    }
   ],
   "source": [
    "correlation_listing = IPO_df['Issue_Size(crores)'].corr(IPO_df['Listing_Return_%'])\n",
    "correlation_current = IPO_df['Issue_Size(crores)'].corr(IPO_df['Current_Returns %'])\n",
    "\n",
    "print('Correlation between issue size and Listing Gain(%): ', correlation_listing)\n",
    "print('Correlation between issue size and Current Gain(%): ', correlation_current)\n",
    "\n",
    "# Negative correlation (e.g., -0.45): Smaller IPOs tend to give higher gains.\n",
    "# Positive correlation (e.g., +0.30): Larger IPOs perform better.\n",
    "# Near 0: No clear pattern between size and performance"
   ]
  },
  {
   "cell_type": "markdown",
   "id": "88a17190",
   "metadata": {},
   "source": [
    "How have IPO listing gains changed over time (monthly or yearly trend)?\n"
   ]
  },
  {
   "cell_type": "code",
   "execution_count": 112,
   "id": "fc5a821c",
   "metadata": {},
   "outputs": [
    {
     "name": "stdout",
     "output_type": "stream",
     "text": [
      "    Year  Listing_Return_%\n",
      "0   2010         10.229054\n",
      "1   2011          3.181795\n",
      "2   2012          5.312727\n",
      "3   2013          4.500000\n",
      "4   2014         25.126667\n",
      "5   2015          6.548500\n",
      "6   2016         12.351481\n",
      "7   2017         21.475526\n",
      "8   2018          5.255833\n",
      "9   2019         14.575882\n",
      "10  2020         38.716250\n",
      "11  2021         30.942769\n",
      "12  2022         10.252821\n",
      "13  2023         26.066500\n",
      "14  2024         28.377439\n",
      "15  2025         11.034359\n"
     ]
    },
    {
     "data": {
      "image/png": "[encoded data removed]",
      "text/plain": [
       "<Figure size 1000x500 with 1 Axes>"
      ]
     },
     "metadata": {},
     "output_type": "display_data"
    }
   ],
   "source": [
    "IPO_df['Date'] = pd.to_datetime(IPO_df['Date'], errors='coerce')\n",
    "\n",
    "IPO_df['Year'] = IPO_df['Date'].dt.year\n",
    "IPO_df['Month'] = IPO_df['Date'].dt.month\n",
    "\n",
    "yearly_trend = IPO_df.groupby('Year')['Listing_Return_%'].mean().reset_index()\n",
    "yearly_trend.to_excel('Yearly_trend of Listing Return.xlsx')\n",
    "print(yearly_trend)\n",
    "\n",
    "plt.figure(figsize=(10,5))\n",
    "sn.lineplot(data=yearly_trend, x='Year', y='Listing_Return_%', marker='o')\n",
    "plt.title(\"Average IPO Listing Gains by Year\")\n",
    "plt.ylabel(\"Average Listing Gain (%)\")\n",
    "plt.xlabel(\"Year\")\n",
    "plt.grid(True, linestyle='--', alpha=0.6)\n",
    "plt.savefig('Yearly_trend of Listing Return')\n",
    "plt.show()\n",
    "\n"
   ]
  },
  {
   "cell_type": "markdown",
   "id": "e4fcc284",
   "metadata": {},
   "source": [
    "Which months or quarters tend to have higher average listing gains?\n"
   ]
  },
  {
   "cell_type": "code",
   "execution_count": 113,
   "id": "28360547",
   "metadata": {},
   "outputs": [
    {
     "name": "stdout",
     "output_type": "stream",
     "text": [
      "    Month  Listing Gain\n",
      "6       7         26.79\n",
      "11     12         24.85\n",
      "10     11         23.50\n",
      "8       9         23.48\n",
      "9      10         17.67\n",
      "2       3         17.13\n",
      "0       1         16.12\n",
      "7       8         15.72\n",
      "1       2         13.15\n",
      "5       6         12.12\n",
      "3       4          8.18\n",
      "4       5          4.29\n"
     ]
    },
    {
     "data": {
      "image/png": "[encoded data removed]",
      "text/plain": [
       "<Figure size 1000x500 with 1 Axes>"
      ]
     },
     "metadata": {},
     "output_type": "display_data"
    },
    {
     "name": "stdout",
     "output_type": "stream",
     "text": [
      "   Quarter  Listing Gain\n",
      "3        4         22.08\n",
      "2        3         21.98\n",
      "0        1         15.42\n",
      "1        2          7.38\n"
     ]
    },
    {
     "data": {
      "image/png": "[encoded data removed]",
      "text/plain": [
       "<Figure size 800x500 with 1 Axes>"
      ]
     },
     "metadata": {},
     "output_type": "display_data"
    }
   ],
   "source": [
    "# Convert Date column\n",
    "IPO_df['Date'] = pd.to_datetime(IPO_df['Date'], errors='coerce')\n",
    "\n",
    "# Extract month and quarter\n",
    "IPO_df['Month'] = IPO_df['Date'].dt.month\n",
    "IPO_df['Quarter'] = IPO_df['Date'].dt.quarter\n",
    "\n",
    "# === MONTHLY AVERAGE LISTING GAIN ===\n",
    "month_higher_avg_listing_gain = (\n",
    "    IPO_df.groupby('Month')['Listing Gain']\n",
    "    .mean()\n",
    "    .round(2)\n",
    "    .reset_index()\n",
    "    .sort_values(by='Listing Gain', ascending=False)\n",
    ")\n",
    "\n",
    "# Save to Excel\n",
    "month_higher_avg_listing_gain.to_excel('Month_Higher_Avg_Listing_Gain.xlsx', index=False)\n",
    "\n",
    "# Print results\n",
    "print(month_higher_avg_listing_gain)\n",
    "\n",
    "# Plot\n",
    "plt.figure(figsize=(10,5))\n",
    "sn.lineplot(data=month_higher_avg_listing_gain, x='Month', y='Listing Gain', marker='o')\n",
    "plt.title(\"Average IPO Listing Gains by Month\")\n",
    "plt.ylabel(\"Average Listing Gain (%)\")\n",
    "plt.xlabel(\"Month\")\n",
    "plt.grid(True, linestyle='--', alpha=0.6)\n",
    "plt.savefig('Month_Higher_Avg_Listing_Gain.png')\n",
    "plt.show()\n",
    "\n",
    "\n",
    "# === QUARTERLY AVERAGE LISTING GAIN ===\n",
    "quarter_higher_avg_listing_gain = (\n",
    "    IPO_df.groupby('Quarter')['Listing Gain']\n",
    "    .mean()\n",
    "    .round(2)\n",
    "    .reset_index()\n",
    "    .sort_values(by='Listing Gain', ascending=False)\n",
    ")\n",
    "\n",
    "# Save to Excel\n",
    "quarter_higher_avg_listing_gain.to_excel('Quarter_Higher_Avg_Listing_Gain.xlsx', index=False)\n",
    "\n",
    "# Print results\n",
    "print(quarter_higher_avg_listing_gain)\n",
    "\n",
    "# Plot\n",
    "plt.figure(figsize=(8,5))\n",
    "sn.lineplot(data=quarter_higher_avg_listing_gain, x='Quarter', y='Listing Gain', marker='o')\n",
    "plt.title(\"Average IPO Listing Gains by Quarter\")\n",
    "plt.ylabel(\"Average Listing Gain (%)\")\n",
    "plt.xlabel(\"Quarter\")\n",
    "plt.grid(True, linestyle='--', alpha=0.6)\n",
    "plt.savefig('Quarter_Higher_Avg_Listing_Gain.png')\n",
    "plt.show()\n"
   ]
  },
  {
   "cell_type": "markdown",
   "id": "9790dd0f",
   "metadata": {},
   "source": [
    "Do smaller IPOs generally yield higher returns than larger IPOs?\n"
   ]
  },
  {
   "cell_type": "code",
   "execution_count": 114,
   "id": "6886c21e",
   "metadata": {},
   "outputs": [
    {
     "name": "stdout",
     "output_type": "stream",
     "text": [
      "               Listing Gain  Current Gains\n",
      "Size_Category                             \n",
      "Small                 19.32          68.67\n",
      "Medium                18.89         106.23\n",
      "Large                 13.87          72.78\n",
      "Mega                   0.87          -1.23\n"
     ]
    },
    {
     "name": "stderr",
     "output_type": "stream",
     "text": [
      "C:\\Users\\kasif\\AppData\\Local\\Temp\\ipykernel_27884\\2458613969.py:7: FutureWarning:\n",
      "\n",
      "The default of observed=False is deprecated and will be changed to True in a future version of pandas. Pass observed=False to retain current behavior or observed=True to adopt the future default and silence this warning.\n",
      "\n"
     ]
    }
   ],
   "source": [
    "IPO_df['Size_Category'] = pd.cut(\n",
    "    IPO_df['Issue_Size(crores)'],\n",
    "    bins=[0, 500, 2000, 10000, IPO_df['Issue_Size(crores)'].max()],\n",
    "    labels=['Small', 'Medium', 'Large', 'Mega']\n",
    ")\n",
    "\n",
    "avg_returns_by_size = IPO_df.groupby('Size_Category')[['Listing Gain', 'Current Gains']].mean().round(2)\n",
    "avg_returns_by_size.to_excel('Avg Return by Issue Size of IPO.xlsx')\n",
    "print(avg_returns_by_size)\n"
   ]
  },
  {
   "cell_type": "markdown",
   "id": "94ddb3c3",
   "metadata": {},
   "source": [
    "Which IPOs performed best immediately after listing but failed to sustain performance later?\n"
   ]
  },
  {
   "cell_type": "code",
   "execution_count": 115,
   "id": "0d929f6b",
   "metadata": {},
   "outputs": [
    {
     "name": "stdout",
     "output_type": "stream",
     "text": [
      "                              IPO_Name  Listing_Return_%  Current Gains\n",
      "238         Sigachi Industries Limited            252.76         -80.60\n",
      "364     Salasar Techno Engineering Ltd            139.95         -93.47\n",
      "342      Astron Paper & Board Mill Ltd            128.00         -70.50\n",
      "294   Chemcon Speciality Chemicals Ltd            114.99         -31.78\n",
      "256  Tatva Chintan Pharma Chem Limited             95.00          -4.32\n"
     ]
    }
   ],
   "source": [
    "listing_threshold = IPO_df['Listing_Return_%'].quantile(0.75)\n",
    "\n",
    "underperforming_ipos = IPO_df[\n",
    "    (IPO_df['Listing_Return_%']>=listing_threshold) &\n",
    "    (IPO_df['Current Gains']<=0)\n",
    "]\n",
    "\n",
    "underperforming_ipos = underperforming_ipos[['IPO_Name', 'Listing_Return_%', 'Current Gains']]\n",
    "underperforming_IPOs = underperforming_ipos.sort_values(by='Listing_Return_%', ascending=False)\n",
    "print(underperforming_IPOs.head())\n",
    "\n"
   ]
  },
  {
   "cell_type": "markdown",
   "id": "5607d94e",
   "metadata": {},
   "source": [
    "What percentage of IPOs currently trade below their offer price?\n"
   ]
  },
  {
   "cell_type": "code",
   "execution_count": 116,
   "id": "c3aa44e5",
   "metadata": {},
   "outputs": [
    {
     "name": "stdout",
     "output_type": "stream",
     "text": [
      "Percentage of IPOs trading below offer Price:  43.493761%\n"
     ]
    }
   ],
   "source": [
    "underperforming_count = IPO_df[IPO_df['Avg_cmp']< IPO_df['Offer Price']].shape[0]\n",
    "total_IPOs = IPO_df.shape[0]\n",
    "\n",
    "percentage_underperfroming = (underperforming_count/total_IPOs)*100\n",
    "print(f'Percentage of IPOs trading below offer Price: { percentage_underperfroming: 2f}%')"
   ]
  },
  {
   "cell_type": "markdown",
   "id": "0e404dcf",
   "metadata": {},
   "source": [
    "How does QIB, HNI, or RII participation individually affect IPO performance?\n"
   ]
  },
  {
   "cell_type": "code",
   "execution_count": 117,
   "id": "d91a75e9",
   "metadata": {},
   "outputs": [
    {
     "name": "stdout",
     "output_type": "stream",
     "text": [
      "               Listing Gain  Current Gains\n",
      "QIB                0.622133       0.065639\n",
      "HNI                0.629242       0.117428\n",
      "RII                0.516083      -0.040778\n",
      "Listing Gain       1.000000       0.062998\n",
      "Current Gains      0.062998       1.000000\n"
     ]
    }
   ],
   "source": [
    "cols = ['QIB', 'HNI', 'RII','Listing Gain', 'Current Gains']\n",
    "subset = IPO_df[cols]\n",
    "\n",
    "correlation_matrix = subset.corr()\n",
    "print(correlation_matrix[['Listing Gain', 'Current Gains']])\n",
    "\n",
    "# Values close to +1 → strong positive influence\n",
    "# Values close to 0 → little influence\n",
    "# Values close to -1 → negative influence"
   ]
  },
  {
   "cell_type": "markdown",
   "id": "83a5b65f",
   "metadata": {},
   "source": [
    "Are there any outlier IPOs with extremely high or low listing gains?\n"
   ]
  },
  {
   "cell_type": "code",
   "execution_count": 118,
   "id": "ad8fbb83",
   "metadata": {},
   "outputs": [
    {
     "name": "stdout",
     "output_type": "stream",
     "text": [
      "                                        IPO_Name  Listing_Return_%  \\\n",
      "39   Unimech Aerospace and Manufacturing Limited             89.94   \n",
      "45                      Mamata Machinery Limited            146.91   \n",
      "64                       Waaree Energies Limited             69.66   \n",
      "68  KRN Heat Exchanger and Refrigeration Limited            113.64   \n",
      "73                  P N Gadgil Jewellers Limited             73.75   \n",
      "\n",
      "    Current_Returns %  \n",
      "39              39.93  \n",
      "45              74.03  \n",
      "64             110.69  \n",
      "68             314.15  \n",
      "73              15.33  \n"
     ]
    }
   ],
   "source": [
    "Q1 = IPO_df['Listing_Return_%'].quantile(0.25)\n",
    "Q3 = IPO_df['Listing_Return_%'].quantile(0.75)\n",
    "IQR = Q3 - Q1\n",
    "\n",
    "# Define outliers\n",
    "lower_bound = Q1 - 1.5 * IQR\n",
    "upper_bound = Q3 + 1.5 * IQR\n",
    "\n",
    "# Filter outliers\n",
    "outliers = IPO_df[(IPO_df['Listing_Return_%'] < lower_bound) | (IPO_df['Listing_Return_%'] > upper_bound)]\n",
    "print(outliers[['IPO_Name', 'Listing_Return_%', 'Current_Returns %']].head())\n"
   ]
  },
  {
   "cell_type": "markdown",
   "id": "327c89ea",
   "metadata": {},
   "source": [
    "What is the overall distribution of listing gains across all IPOs (normal, skewed, etc.)?\n"
   ]
  },
  {
   "cell_type": "code",
   "execution_count": 119,
   "id": "7b3ad6ac",
   "metadata": {},
   "outputs": [
    {
     "name": "stdout",
     "output_type": "stream",
     "text": [
      "Skewness:2.54\n",
      "Kurtosis:9.31\n"
     ]
    }
   ],
   "source": [
    "Listing_Stats = IPO_df['Listing Gain'].describe()\n",
    "# print(Listing_Stats)\n",
    "\n",
    "skewness = IPO_df['Listing Gain'].skew()\n",
    "kurtosis = IPO_df['Listing Gain'].kurt()\n",
    "\n",
    "print(f'Skewness:{skewness:.2f}')\n",
    "print(f'Kurtosis:{kurtosis:.2f}')\n",
    "\n",
    "# Skewness > 0 → right-skewed (a few IPOs have large positive gains).\n",
    "# Skewness < 0 → left-skewed (a few IPOs have large losses).\n",
    "# Kurtosis > 3 → heavy tails (many extreme values).\n",
    "# Kurtosis ≈ 0–3 → close to normal distribution."
   ]
  },
  {
   "cell_type": "markdown",
   "id": "80c0480e",
   "metadata": {},
   "source": [
    "What is the average listing gain percentage vs current gain percentage across the dataset?\n"
   ]
  },
  {
   "cell_type": "code",
   "execution_count": 120,
   "id": "18fbb581",
   "metadata": {},
   "outputs": [
    {
     "name": "stdout",
     "output_type": "stream",
     "text": [
      "Average Listing Gain (%):18.03\n",
      "Average Current Gain (%):83.35\n"
     ]
    }
   ],
   "source": [
    "avg_listing_gain = IPO_df['Listing Gain'].mean()\n",
    "avg_current_gain = IPO_df['Current Gains'].mean()\n",
    "\n",
    "print(f'Average Listing Gain (%):{avg_listing_gain:.2f}')\n",
    "print(f'Average Current Gain (%):{avg_current_gain:.2f}')\n"
   ]
  },
  {
   "cell_type": "markdown",
   "id": "fe851bfe",
   "metadata": {},
   "source": [
    "How has investor sentiment changed over time based on IPO oversubscription patterns?\n"
   ]
  },
  {
   "cell_type": "code",
   "execution_count": 121,
   "id": "dc087363",
   "metadata": {},
   "outputs": [
    {
     "name": "stdout",
     "output_type": "stream",
     "text": [
      "    Year    QIB     HNI    RII  Total\n",
      "0   2010  18.77   33.48   6.84  16.18\n",
      "1   2011   2.31    7.16   4.69   3.89\n",
      "2   2012  11.53   27.31   3.96  10.97\n",
      "3   2013  32.73   16.10   2.90  19.82\n",
      "4   2014  18.14  108.06  12.07  31.06\n",
      "5   2015  17.19   35.88   1.89  13.25\n",
      "6   2016  25.48   89.18   4.91  30.13\n",
      "7   2017  43.73  119.15   9.05  43.88\n",
      "8   2018  31.67   81.33   4.75  27.76\n",
      "9   2019  29.54   85.46   9.19  34.01\n",
      "10  2020  55.64  190.51  18.99  66.07\n",
      "11  2021  57.62  139.16  21.99  58.76\n",
      "12  2022  32.48   11.58   6.60  13.89\n",
      "13  2023  77.72   46.69  23.23  42.32\n",
      "14  2024  84.58   95.35  32.56  60.69\n",
      "15  2025  83.02   96.34  32.63  60.02\n"
     ]
    }
   ],
   "source": [
    "IPO_df['Date'] = pd.to_datetime(IPO_df['Date'], errors='coerce')\n",
    "IPO_df['Year'] = IPO_df['Date'].dt.year\n",
    "\n",
    "avg_subs_trend = (\n",
    "    IPO_df.groupby('Year')[['QIB', 'HNI', 'RII', 'Total']]\n",
    "    .mean()\n",
    "    .round(2)\n",
    "    .reset_index()\n",
    ")\n",
    "\n",
    "print(avg_subs_trend)"
   ]
  },
  {
   "cell_type": "markdown",
   "id": "aac430b4",
   "metadata": {},
   "source": [
    "Can we create an interactive chart showing subscription vs listing gain?\n"
   ]
  },
  {
   "cell_type": "code",
   "execution_count": 144,
   "id": "eeacc27f",
   "metadata": {},
   "outputs": [
    {
     "data": {
      "application/vnd.plotly.v1+json": {
       "config": {
        "plotlyServerURL": "https://plot.ly"
       },
       "data": [
        {
         "hovertemplate": "<b>%{hovertext}</b><br><br>Issue_Size(crores)=%{marker.size}<br>Listing Gain (%)=%{y}<br>QIB=%{marker.color}<extra></extra>",
         "hovertext": [
          "M & B Engineering Ltd",
          "Sri Lotus Developers & Realty Ltd",
          "National Securities Depository Ltd (NSDL)",
          "Aditya Infotech Ltd",
          "Laxmi India Finance Ltd",
          "Shanti Gold International Ltd",
          "Brigade Hotel Ventures Limited",
          "GNG Electronics Limited",
          "Indiqube Spaces Limited",
          "Anthem Biosciences Limited",
          "Smartworks Coworking Limited",
          "Travel Food Services Limited",
          "Crizac Limited",
          "Indogulf Cropsciences Limited",
          "HDB Financial Services Limited",
          "Sambhv Steel Tubes Limited",
          "Globe Civil Projects Limited",
          "Kalpataru Limited",
          "Ellenbarrie Industrial Gases Limited",
          "Arisinfra Solutions Limited",
          "Oswal Pumps Limited",
          "Scoda Tubes Limited",
          "Prostarm Info Systems Limited",
          "Aegis Vopak Terminals Limited",
          "Schloss Bangalore Limited",
          "Belrise Industries Limited",
          "Borana Weaves Limited",
          "Ather Energy Limited",
          "Quality Power Electronics Limited",
          "Hexaware Technologies Limited",
          "Ajax Engineering Limited",
          "Dr Agarwal's Healthcare Limited",
          "Denta Water & Infrastructure Limited",
          "Stallion India Fluorochem Limited",
          "Laxmi Dental Limited",
          "Capital Infra Trust",
          "Quadrant Future Tek Limited",
          "Standard Glass Lining Technology Limited",
          "Indo Farm Equipment Limited",
          "Unimech Aerospace and Manufacturing Limited",
          "Ventive Hospitality Limited",
          "Carraro India Limited",
          "Senores Pharmaceuticals Limited",
          "Transrail Lighting Limited",
          "Dam Capital Advisors Limited",
          "Mamata Machinery Limited",
          "Sanathan Textiles Limited",
          "Concord Enviro Systems Limited",
          "International Gemmological Institute (India) Limited",
          "Inventurus Knowledge Solutions Limited",
          "Vishal Mega Mart Limited",
          "One Mobikwik Systems Limited",
          "Sai Life Sciences Limited",
          "Suraksha Diagnostic Limited",
          "Enviro Infra Engineers Limited",
          "NTPC Green Energy Limited",
          "Zinka Logistics Solution Limited (BlackBuck)",
          "Niva Bupa Health Insurance Company Limited",
          "Swiggy Limited",
          "ACME Solar Holdings Limited",
          "Sagility India Limited",
          "Afcons Infrastructure Limited",
          "Godavari Biorefineries Limited",
          "Deepak Builders & Engineers India Limited",
          "Waaree Energies Limited",
          "Hyundai Motor India Limited",
          "Garuda Construction and Engineering Limited",
          "Diffusion Engineers Limited",
          "KRN Heat Exchanger and Refrigeration Limited",
          "Manba Finance Limited",
          "Arkade Developers Limited",
          "Northern ARC Capital Limited",
          "Western Carriers Limited",
          "P N Gadgil Jewellers Limited",
          "Tolins Tyres Limited",
          "Bajaj Housing Finance Limited",
          "Kross Limited",
          "Shree Tirupati Balajee Agro Trading Company Limited",
          "Gala Precision Engineering Limited",
          "Baazar Style Retail Limited",
          "Ecos (India) Mobility & Hospitality Limited",
          "Premier Energies Limited",
          "Orient Technologies Limited",
          "Interarch Building Products Limited",
          "Saraswati Saree Depot Limited",
          "Brainbees Solutions Limited",
          "Unicommerce eSolutions Limited",
          "Ola Electric Mobility Limited",
          "Ceigall India Limited",
          "Akums Drugs and Pharmaceuticals Limited",
          "Sanstar Limited",
          "Emcure Pharmaceuticals Limited",
          "Bansal Wire Industries Limited",
          "Vraj Iron & Steel Limited",
          "Allied Blenders and Distillers Limited",
          "Stanley Lifestyles Limited",
          "Vodafone Idea Ltd ",
          "Bharti Hexacom Ltd ",
          "SRM Contractors Ltd ",
          "Krystal Integrated Services Ltd ",
          "Popular Vehicles & Services Ltd ",
          "Gopal Snacks Ltd",
          "J.G.Chemicals Ltd ",
          "R K Swamy Ltd ",
          "Mukka Proteins Ltd ",
          "Indus Infra Trust ",
          "Exicom Tele-Systems Ltd ",
          "Platinum Industries Ltd ",
          "GPT Healthcare Ltd ",
          "Juniper Hotels Ltd ",
          "Vibhor Steel Tubes Limited",
          "Entero Healthcare Solutions Limited",
          "Jana Small Finance Bank Limited",
          "Capital Small Finance Bank Limited",
          "Rashi Peripherals Limited",
          "Apeejay Surrendra Group (conglomerate)",
          "BLS E-Services Limited",
          "Nova Agritech Limited",
          "Epack Durable Limited",
          "Medi Assist Healthcare Services Limited",
          "Jyoti CNC Automation Limited",
          "Innova Captab Limited",
          "Azad Engineering Limited",
          "Happy Forgings Limited",
          "Credo Brands Marketing Limited",
          "RBZ Jewellers Limited",
          "Muthoot Microfin Limited",
          "Motisons Jewellers Limited",
          "Suraj Estate Developers Limited",
          "Inox India Limited",
          "Doms Industries Limited",
          "India Shelter Finance Limited",
          "Flair Writing Instruments Limited",
          "Tata Technologies Limited",
          "Gandhar Oil Refineries Limited",
          "Fedbank Financial Services Limited",
          "Indian Renewable Energy Development Agency Limited (IREDA)",
          "ASK Automotive Limited",
          "Protean eGov Technologies Limited",
          "ESAF Small Finance Bank Limited",
          "Honasa Consumer Limited (Mamaearth)",
          "Cello World Limited",
          "Blue Jet Healthcare Limited",
          "IRM Energy Limited",
          "Plaza Wires Limited",
          "Valiant Laboratories Limited",
          "JSW Infrastructure Limited",
          "Updater Services Limited",
          "Manoj Vaibhav Gems",
          "Signature Global India Limited",
          "Sai Silks (Kalamandir) Limited",
          "Yatra Online Limited",
          "Samhi Hotels Limited",
          "Zaggle Prepaid Ocean Limited",
          "R R Kabel Limited",
          "EMS Limited",
          "Jupiter Life Line Limited",
          "Ratnaveer Precision Limited",
          "Rishabh Instruments Limited",
          "Vishnu Prakash R P Limited",
          "Aeroflex Industries Limited",
          "Pyramid Technoplast Limited",
          "TVS Supply Chain Solutions Limited",
          "Concord Biotech Limited",
          "SBFC Finance Limited",
          "Yatharth Hospital & Trauma Care Services Limited",
          "Netweb Technologies India Limited",
          "Utkarsh Small Finance Bank Limited",
          "Senco Gold Limited",
          "Cyient DLM Limited",
          "Ideaforge Technologies Limited",
          "HMA Agro Industries Limited",
          "IKIO Technologies Limited (formerly IKIO Lighting Limited)",
          "Nexus Select Trust",
          "Mankind Pharma Limited",
          "Avalon Technologies Limited",
          "Udayshivakumar Infosolutions Limited",
          "Global Surfaces Limited",
          "Divgi Torqtransfer Systems Limited",
          "Sah Polymers Limited",
          "Radiant Cash Management Services Limited",
          "Elin Electronics Limited",
          "KFin Technologies Limited",
          "Landmark Cars Limited",
          "Abans Financial Services Limited",
          "Sula Vineyards Limited",
          "Uniparts India Limited",
          "Dharmaj Crop Guard Limited",
          "Keystone Realtors Limited",
          "Inox Green Energy Limited",
          "Kaynes Technology India Limited",
          "Archean Chemical Industries Limited",
          "Five Star Business Finance Limited",
          "Bikaji Foods International Limited",
          "Global Health Limited",
          "Fusion Finance Ltd",
          "DCX Systems Ltd",
          "Tracxn Technologies",
          "Electronics Mart India",
          "Harsha Engineers",
          "Tamilnad Mercantile",
          "Dreamfolks Services",
          "Syrma SGS Technologies",
          "Aether Industries",
          "eMudhra Ltd",
          "Ethos Limited",
          "Paradeep Phosphates Limited",
          "Venus Pipes & Tubes Limited",
          "Delhivery Limited",
          "Prudent Corporate Advisory Services Limited",
          "Life Insurance Corporation of India (LIC)",
          "Rainbow Children’s Medicare Limited",
          "Campus Activewear (India) Limited",
          "Hariom Pipe Industries Limited",
          "Veranda Learning Solutions Limited",
          "Uma Exports Limited",
          "Patanjali Foods Limited (formerly Ruchi Soya Industries Limited)",
          "Vedant Fashions Limited",
          "AWL Agri Business Limited (formerly Adani Wilmar Limited)",
          "AGS Transact Technologies Limited",
          "CMS Info Systems Limited",
          "Supriya Lifescience Limited",
          "HP Adhesives Limited",
          "Data Patterns (India) Limited",
          "MedPlus Health Services Limited",
          "C.E. Info Systems Limited (MapmyIndia)",
          "Shriram Properties Limited",
          "Rategain Travel Technologies Limited",
          "Anand Rathi Wealth Limited",
          "Tega Industries Limited",
          "Star Health and Allied Insurance Company Limited",
          "Go Fashion (India) Limited",
          "Tarsons Products",
          "Latent View Analytics",
          "Sapphire Foods India",
          "One97 Communications",
          "PB Fintech",
          "S.J.S Enterprises Limited",
          "Sigachi Industries Limited",
          "Fino Payments Bank Limited",
          "FSN E Commerce Ventures Limited (Nykaa)",
          "Aditya Birla Sun Life AMC Limited",
          "Paras Defence and Space Technologies Limited",
          "Sansera Engineering Limited",
          "Vijaya Diagnostic Centre Limited",
          "Acutaas Chemicals Limited",
          "Aptus Value Housing Finance India Limited",
          "Chemplast Sanmar Limited",
          "Nuvoco Vistas Corporation Limited",
          "CarTrade Tech Limited",
          "Devyani International Limited",
          "Windlas Biotech Limited",
          "Exxaro Tiles Limited",
          "Krsnaa Diagnostics Limited",
          "Rolex Rings Limited",
          "Alivus Life Sciences Limited",
          "Tatva Chintan Pharma Chem Limited",
          "Eternal Limited",
          "G R Infraprojects Limited",
          "Clean Science and Technology Limited",
          "India Pesticides Limited",
          "Dodla Dairy Limited",
          "Krishna Institute of Medical Sciences Limited",
          "Sona BLW Precision Forgings Limited",
          "Shyam Metalics and Energy Limited",
          "Powergrid Infrastructure Investment Trust",
          "Macrotech Developers Limited (Lodha Group)",
          "Barbeque Nation Hospitality Limited",
          "Nazara Technologies Limited",
          "Suryoday Small Finance Bank Limited",
          "Kalyan Jewellers India Limited",
          "Craftsman Automation Limited",
          "Laxmi Organic Industries Limited",
          "Anupam Rasayan India Limited",
          "Easy Trip Planners Limited",
          "MTAR Technologies Limited",
          "Heranba Industries Limited",
          "Railtel Corporation of India Limited",
          "Nureca Limited",
          "Brookfield India Real Estate Trust",
          "Stove Kraft Limited",
          "Home First Finance Company India Limited",
          "Indigo Paints Limited",
          "Indian Railway Finance Corporation Limited",
          "Antony Waste Handling Cell Ltd",
          "Mrs Bectors Food Specialities Ltd",
          "Restaurant Brands Asia Ltd",
          "Gland Pharma Ltd",
          "Equitas Small Finance Bank Ltd",
          "UTI Asset Management Company Ltd",
          "Likhitha Infrastructure Ltd",
          "Mazagon Dock Shipbuilders Ltd",
          "Angel One Ltd",
          "Computer Age Management Services Ltd",
          "Chemcon Speciality Chemicals Ltd",
          "Route Mobile Ltd",
          "Happiest Minds Technologies Ltd",
          "Mindspace Business Parks REIT",
          "Yes Bank Ltd",
          "Rossari Biotech Ltd",
          "SBI Cards & Payment Services Ltd",
          "Prince Pipes and Fittings Ltd",
          "Ujjivan Small Finance Bank Ltd",
          "CSB Bank Ltd",
          "Vishwaraj Sugar Industries Ltd",
          "Indian Railway Catering and Tourism Corporation Ltd",
          "Sterling and Wilson Solar Ltd",
          "Spandana Sphoorty Financial Ltd",
          "Affle (India) Ltd",
          "Indiamart Intermesh Ltd",
          "Neogen Chemicals Ltd",
          "Polycab India Ltd",
          "Metropolis Healthcare Ltd",
          "Rail Vikas Nigam Ltd",
          "Embassy Office Parks REIT",
          "MSTC Ltd",
          "Chalet Hotels Ltd",
          "Xelpmoc Design and Technologies Ltd",
          "AAVAS Financiers Ltd",
          "Garden Reach Shipbuilders & Engineers Ltd",
          "Ircon International Ltd",
          "CreditAccess Grameen Ltd",
          "HDFC Asset Management Company Ltd",
          "TCNS Clothing Co. Ltd",
          "Varroc Engineering Ltd",
          "Fine Organic Industries Ltd",
          "Rites Ltd",
          "Indostar Capital Finance Ltd",
          "Lemon Tree Hotels Ltd",
          "ICICI Securities Ltd",
          "Mishra Dhatu Nigam Ltd (MIDHANI)",
          "Sandhar Technologies Ltd",
          "Hindustan Aeronautics Ltd (HAL)",
          "Dharan Infra EPC Ltd",
          "Bandhan Bank Ltd",
          "Bharat Dynamics Ltd",
          "H.G. Infra Engineering Ltd",
          "Aster DM Healthcare Ltd",
          "Galaxy Surfactants Ltd",
          "Amber Enterprises India Ltd",
          "Newgen Software Technologies Ltd",
          "Apollo Micro Systems Ltd",
          "Astron Paper & Board Mill Ltd",
          "Future Supply Chain Solutions Ltd",
          "Shalby Ltd",
          "HDFC Life Insurance Company Ltd",
          "Khadim India Ltd",
          "New India Assurance Company Ltd",
          "Mahindra Logistics Ltd",
          "Nippon Life India Asset Management Ltd",
          "General Insurance Corporation of India Ltd",
          "Indian Energy Exchange Ltd",
          "MAS Financial Services Ltd",
          "Godrej Agrovet Ltd",
          "Prataap Snacks Ltd",
          "SBI Life Insurance Company Ltd",
          "ICICI Lombard General Insurance Company Ltd",
          "Capacit'e Infraprojects Ltd",
          "Matrimony.com Ltd",
          "Bharat Road Network Ltd",
          "Dixon Technologies (India) Ltd",
          "Apex Frozen Foods Ltd",
          "Cochin Shipyard Ltd",
          "SIS Ltd",
          "Salasar Techno Engineering Ltd",
          "AU Small Finance Bank Ltd",
          "GTPL Hathway Ltd",
          "Central Depository Services Ltd",
          "ERIS Lifesciences Ltd",
          "Tejas Networks Ltd",
          "PSP Projects Ltd",
          "IndiGrid Infrastructure Fund",
          "Housing & Urban Development Corporation Ltd",
          "IRB InvIT Fund",
          "S Chand & Company Ltd",
          "Shankara Building Products Ltd",
          "CL Educate Ltd",
          "Avenue Supermarts Ltd (DMart)",
          "Music Broadcast Ltd",
          "BSE Ltd (Bombay Stock Exchange)",
          "Laurus Labs Ltd",
          "Sheela Foam Ltd",
          "Varun Beverages Ltd",
          "PNB Housing Finance Ltd",
          "Endurance Technologies Ltd",
          "HPL Electric & Power Ltd",
          "ICICI Prudential Life Insurance Company Ltd",
          "GNA Axles Ltd",
          "L&T Technology Services Ltd",
          "RBL Bank Ltd",
          "S P Apparels Ltd",
          "Dilip Buildcon Ltd",
          "Advanced Enzyme Technologies Ltd",
          "LTIMindtree Ltd",
          "Quess Corp Ltd",
          "Mahanagar Gas Ltd",
          "Parag Milk Foods Ltd",
          "Ujjivan Financial Services Ltd",
          "Thyrocare Technologies Ltd",
          "Equitas Holdings Ltd",
          "Infibeam Avenues Ltd",
          "Bharat Wire Ropes Ltd",
          "Healthcare Global Enterprises Ltd",
          "Quick Heal Technologies Ltd",
          "Team Lease Services Ltd",
          "Precision Camshafts Ltd",
          "Narayana Hrudayalaya Ltd",
          "Dr Lal Pathlabs Ltd",
          "Alkem Laboratories Ltd",
          "S H Kelkar & Company Ltd",
          "Interglobe Aviation Ltd",
          "Coffee Day Enterprises Ltd",
          "Sadbhav Infrastructure Project Ltd",
          "Madhyam Agrivet Industries Ltd",
          "Shree Pushkar Chemicals Ltd",
          "Pennar Engineered Building Systems Ltd",
          "Navkar Corporation Ltd",
          "Power Mech Projects Ltd",
          "Syngene International Ltd",
          "Manpasand Beverages Ltd",
          "PNC Infratech Ltd",
          "UFO Moviez India Ltd",
          "MEP Infrastructure Developers Ltd",
          "VRL Logistics Ltd",
          "Inox Wind Ltd",
          "Imagicaaworld Entertainment Ltd",
          "Ortel Communications Ltd",
          "Monte Carlo Fashions Ltd",
          "Shemaroo Entertainment Ltd",
          "Sharda Cropchem Ltd",
          "Snowman Logistics Ltd",
          "Wonderla Holidays Ltd",
          "Engineers India Ltd",
          "Power Grid Corporation of India Ltd",
          "Just Dial Ltd",
          "Repco Home Finance Ltd",
          "V-Mart Retail Ltd",
          "Indus Towers Ltd",
          "PC Jeweller Ltd",
          "CARE Ratings Ltd",
          "Tara Jewels Ltd",
          "VKS Projects Ltd",
          "Speciality Restaurants Ltd",
          "Tribhovandas Bhimji Zaveri Ltd",
          "MT Educare Ltd",
          "NBCC (India) Ltd",
          "Olympic Cards Ltd",
          "Multi Commodity Exchange of India Ltd",
          "Indo Thai Securities Ltd",
          "Flexituff Ventures International Ltd",
          "Taksheel Solutions Ltd",
          "Onelife Capital Advisors Ltd",
          "Ujaas Energy Ltd",
          "RDB Rasayans Ltd",
          "Setubandhan Infrastructure Ltd",
          "PG Electroplast Ltd",
          "TD Power Systems Ltd",
          "SRS Ltd",
          "Brooks Laboratories Ltd",
          "Tree House Education & Accessories Ltd",
          "L&T Finance Holdings Ltd",
          "Inventure Growth & Securities Ltd",
          "Bharatiya Global Infomedia Ltd",
          "Kridhan Infra Ltd",
          "Rushil Decor Ltd",
          "Birla Pacific Medspa Ltd",
          "Timbor Home Ltd",
          "VMS Industries Ltd",
          "Power Finance Corporation Ltd",
          "Dr. Datsons Labs Ltd",
          "BF Industrial & Technologies Ltd",
          "Vaswani Industries Ltd",
          "Servalakshmi Paper Ltd",
          "Innoventive Industries Ltd",
          "Future Consumer Ltd",
          "Paramount Printpac Ltd",
          "Muthoot Finance Ltd",
          "Shilpi Cable Technologies Ltd",
          "PTC India Financial Services Ltd",
          "Lovable Lingerie Ltd",
          "Fineotex Chemical Ltd",
          "AcroPetal Technologies Ltd",
          "Sudar Industries Ltd",
          "Omkar Speciality Chemicals Ltd",
          "Tata Steel Ltd",
          "Midvalley Entertainment & Hospitality Ltd",
          "C Mahendra Exports Ltd",
          "Punjab & Sind Bank",
          "A2Z Infra Engineering Ltd",
          "Ravikumar Distilleries Ltd",
          "Shipping Corporation of India Ltd",
          "MOIL Ltd",
          "Claris Lifescience Ltd",
          "RPP Infra Projects Ltd",
          "Power Grid Corporation of India Ltd",
          "Gravita India Ltd",
          "Coal India Ltd",
          "Shah Metacorp Ltd",
          "Prestige Estates Projects Ltd",
          "BS Ltd",
          "Oberoi Realty Ltd",
          "Jupiter Wagons Ltd",
          "Bedmutha Industries Ltd",
          "Sea TV Network Ltd",
          "Ashoka Buildcon Ltd",
          "Tecpro Systems Ltd",
          "Va Tech Wabag Ltd",
          "Cantabil Retail India Ltd",
          "Orient Green Power Company Ltd",
          "Ramky Infrastructure Ltd",
          "ESL Steel Ltd",
          "Sastasundar Ventures Ltd",
          "Eros International Media Ltd",
          "CP Capital Ltd",
          "Tirupati Inks Limited",
          "Indosolar Limited",
          "Gujarat Pipavav Port Limited",
          "Prakash Steelage Limited",
          "Bajaj Consumer Care Limited",
          "Bharat Financial Inclusion Limited",
          "Engineers India Limited",
          "Midfield Industries Limited",
          "Hindustan Media Ventures Limited",
          "Technofab Engineers Limited",
          "Shri Aster Silicates Limited",
          "Parabolic Drugs Limited",
          "Standard Chartered (India) Limited",
          "Jaypee Infratech Limited",
          "SJVN Limited",
          "GB Global Limited",
          "Tarapur Transformers Limited",
          "Satchmo Holdings Limited",
          "Talwalkars Better Value Fitness Limited",
          "Goenka Diamond & Jewellery Limited",
          "Intrasoft Technologies Limited",
          "Shree Ganesh Jewellery House (I) Limited",
          "Persistent Systems Limited",
          "IL&FS Transportation Networks Limited",
          "Pradip Overseas Limited",
          "NMDC Limited",
          "DQ Entertainment (International) Limited",
          "United Bank of India",
          "REC Limited",
          "Man Infraconstruction Limited",
          "Texmo Pipes and Products Limited",
          "Hathway Cable & Datacom Limited",
          "ARSS Infrastructure Projects Limited",
          "NTPC Limited",
          "Emmbi Industries Limited",
          "Valor Estates Limited",
          "Thangamayil Jewellery Limited",
          "Syncom Healthcare Limited",
          "Vascon Engineers Limited",
          "Aqua Logistics Limited",
          "Jubilant Foodworks Limited",
          "Birla Shloka Edutech Limited",
          "Infinite Computer Solutions Limited",
          "D B Corp Limited",
          "Godrej Properties Limited",
          "JSW Energy Limited",
          "MBL Infrastructure Limited"
         ],
         "legendgroup": "",
         "marker": {
          "color": {
           "bdata": "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",
           "dtype": "f8"
          },
          "coloraxis": "coloraxis",
          "size": {
           "bdata": "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",
           "dtype": "f8"
          },
          "sizemode": "area",
          "sizeref": 69.64699999999999,
          "symbol": "circle"
         },
         "mode": "markers",
         "name": "",
         "orientation": "v",
         "showlegend": false,
         "type": "scatter",
         "x": {
          "bdata": "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",
          "dtype": "f8"
         },
         "xaxis": "x",
         "y": {
          "bdata": "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",
          "dtype": "f8"
         },
         "yaxis": "y"
        }
       ],
       "layout": {
        "coloraxis": {
         "colorbar": {
          "title": {
           "text": "QIB"
          }
         },
         "colorscale": [
          [
           0,
           "#000011"
          ],
          [
           0.1111111111111111,
           "#000012"
          ],
          [
           0.2222222222222222,
           "#000013"
          ],
          [
           0.3333333333333333,
           "#000014"
          ],
          [
           0.4444444444444444,
           "#000015"
          ],
          [
           0.5555555555555556,
           "#000016"
          ],
          [
           0.6666666666666666,
           "#000017"
          ],
          [
           0.7777777777777778,
           "#000018"
          ],
          [
           0.8888888888888888,
           "#000019"
          ],
          [
           1,
           "#000020"
          ]
         ]
        },
        "legend": {
         "itemsizing": "constant",
         "tracegroupgap": 0
        },
        "template": {
         "data": {
          "bar": [
           {
            "error_x": {
             "color": "#2a3f5f"
            },
            "error_y": {
             "color": "#2a3f5f"
            },
            "marker": {
             "line": {
              "color": "white",
              "width": 0.5
             },
             "pattern": {
              "fillmode": "overlay",
              "size": 10,
              "solidity": 0.2
             }
            },
            "type": "bar"
           }
          ],
          "barpolar": [
           {
            "marker": {
             "line": {
              "color": "white",
              "width": 0.5
             },
             "pattern": {
              "fillmode": "overlay",
              "size": 10,
              "solidity": 0.2
             }
            },
            "type": "barpolar"
           }
          ],
          "carpet": [
           {
            "aaxis": {
             "endlinecolor": "#2a3f5f",
             "gridcolor": "#C8D4E3",
             "linecolor": "#C8D4E3",
             "minorgridcolor": "#C8D4E3",
             "startlinecolor": "#2a3f5f"
            },
            "baxis": {
             "endlinecolor": "#2a3f5f",
             "gridcolor": "#C8D4E3",
             "linecolor": "#C8D4E3",
             "minorgridcolor": "#C8D4E3",
             "startlinecolor": "#2a3f5f"
            },
            "type": "carpet"
           }
          ],
          "choropleth": [
           {
            "colorbar": {
             "outlinewidth": 0,
             "ticks": ""
            },
            "type": "choropleth"
           }
          ],
          "contour": [
           {
            "colorbar": {
             "outlinewidth": 0,
             "ticks": ""
            },
            "colorscale": [
             [
              0,
              "#0d0887"
             ],
             [
              0.1111111111111111,
              "#46039f"
             ],
             [
              0.2222222222222222,
              "#7201a8"
             ],
             [
              0.3333333333333333,
              "#9c179e"
             ],
             [
              0.4444444444444444,
              "#bd3786"
             ],
             [
              0.5555555555555556,
              "#d8576b"
             ],
             [
              0.6666666666666666,
              "#ed7953"
             ],
             [
              0.7777777777777778,
              "#fb9f3a"
             ],
             [
              0.8888888888888888,
              "#fdca26"
             ],
             [
              1,
              "#f0f921"
             ]
            ],
            "type": "contour"
           }
          ],
          "contourcarpet": [
           {
            "colorbar": {
             "outlinewidth": 0,
             "ticks": ""
            },
            "type": "contourcarpet"
           }
          ],
          "heatmap": [
           {
            "colorbar": {
             "outlinewidth": 0,
             "ticks": ""
            },
            "colorscale": [
             [
              0,
              "#0d0887"
             ],
             [
              0.1111111111111111,
              "#46039f"
             ],
             [
              0.2222222222222222,
              "#7201a8"
             ],
             [
              0.3333333333333333,
              "#9c179e"
             ],
             [
              0.4444444444444444,
              "#bd3786"
             ],
             [
              0.5555555555555556,
              "#d8576b"
             ],
             [
              0.6666666666666666,
              "#ed7953"
             ],
             [
              0.7777777777777778,
              "#fb9f3a"
             ],
             [
              0.8888888888888888,
              "#fdca26"
             ],
             [
              1,
              "#f0f921"
             ]
            ],
            "type": "heatmap"
           }
          ],
          "histogram": [
           {
            "marker": {
             "pattern": {
              "fillmode": "overlay",
              "size": 10,
              "solidity": 0.2
             }
            },
            "type": "histogram"
           }
          ],
          "histogram2d": [
           {
            "colorbar": {
             "outlinewidth": 0,
             "ticks": ""
            },
            "colorscale": [
             [
              0,
              "#0d0887"
             ],
             [
              0.1111111111111111,
              "#46039f"
             ],
             [
              0.2222222222222222,
              "#7201a8"
             ],
             [
              0.3333333333333333,
              "#9c179e"
             ],
             [
              0.4444444444444444,
              "#bd3786"
             ],
             [
              0.5555555555555556,
              "#d8576b"
             ],
             [
              0.6666666666666666,
              "#ed7953"
             ],
             [
              0.7777777777777778,
              "#fb9f3a"
             ],
             [
              0.8888888888888888,
              "#fdca26"
             ],
             [
              1,
              "#f0f921"
             ]
            ],
            "type": "histogram2d"
           }
          ],
          "histogram2dcontour": [
           {
            "colorbar": {
             "outlinewidth": 0,
             "ticks": ""
            },
            "colorscale": [
             [
              0,
              "#0d0887"
             ],
             [
              0.1111111111111111,
              "#46039f"
             ],
             [
              0.2222222222222222,
              "#7201a8"
             ],
             [
              0.3333333333333333,
              "#9c179e"
             ],
             [
              0.4444444444444444,
              "#bd3786"
             ],
             [
              0.5555555555555556,
              "#d8576b"
             ],
             [
              0.6666666666666666,
              "#ed7953"
             ],
             [
              0.7777777777777778,
              "#fb9f3a"
             ],
             [
              0.8888888888888888,
              "#fdca26"
             ],
             [
              1,
              "#f0f921"
             ]
            ],
            "type": "histogram2dcontour"
           }
          ],
          "mesh3d": [
           {
            "colorbar": {
             "outlinewidth": 0,
             "ticks": ""
            },
            "type": "mesh3d"
           }
          ],
          "parcoords": [
           {
            "line": {
             "colorbar": {
              "outlinewidth": 0,
              "ticks": ""
             }
            },
            "type": "parcoords"
           }
          ],
          "pie": [
           {
            "automargin": true,
            "type": "pie"
           }
          ],
          "scatter": [
           {
            "fillpattern": {
             "fillmode": "overlay",
             "size": 10,
             "solidity": 0.2
            },
            "type": "scatter"
           }
          ],
          "scatter3d": [
           {
            "line": {
             "colorbar": {
              "outlinewidth": 0,
              "ticks": ""
             }
            },
            "marker": {
             "colorbar": {
              "outlinewidth": 0,
              "ticks": ""
             }
            },
            "type": "scatter3d"
           }
          ],
          "scattercarpet": [
           {
            "marker": {
             "colorbar": {
              "outlinewidth": 0,
              "ticks": ""
             }
            },
            "type": "scattercarpet"
           }
          ],
          "scattergeo": [
           {
            "marker": {
             "colorbar": {
              "outlinewidth": 0,
              "ticks": ""
             }
            },
            "type": "scattergeo"
           }
          ],
          "scattergl": [
           {
            "marker": {
             "colorbar": {
              "outlinewidth": 0,
              "ticks": ""
             }
            },
            "type": "scattergl"
           }
          ],
          "scattermap": [
           {
            "marker": {
             "colorbar": {
              "outlinewidth": 0,
              "ticks": ""
             }
            },
            "type": "scattermap"
           }
          ],
          "scattermapbox": [
           {
            "marker": {
             "colorbar": {
              "outlinewidth": 0,
              "ticks": ""
             }
            },
            "type": "scattermapbox"
           }
          ],
          "scatterpolar": [
           {
            "marker": {
             "colorbar": {
              "outlinewidth": 0,
              "ticks": ""
             }
            },
            "type": "scatterpolar"
           }
          ],
          "scatterpolargl": [
           {
            "marker": {
             "colorbar": {
              "outlinewidth": 0,
              "ticks": ""
             }
            },
            "type": "scatterpolargl"
           }
          ],
          "scatterternary": [
           {
            "marker": {
             "colorbar": {
              "outlinewidth": 0,
              "ticks": ""
             }
            },
            "type": "scatterternary"
           }
          ],
          "surface": [
           {
            "colorbar": {
             "outlinewidth": 0,
             "ticks": ""
            },
            "colorscale": [
             [
              0,
              "#0d0887"
             ],
             [
              0.1111111111111111,
              "#46039f"
             ],
             [
              0.2222222222222222,
              "#7201a8"
             ],
             [
              0.3333333333333333,
              "#9c179e"
             ],
             [
              0.4444444444444444,
              "#bd3786"
             ],
             [
              0.5555555555555556,
              "#d8576b"
             ],
             [
              0.6666666666666666,
              "#ed7953"
             ],
             [
              0.7777777777777778,
              "#fb9f3a"
             ],
             [
              0.8888888888888888,
              "#fdca26"
             ],
             [
              1,
              "#f0f921"
             ]
            ],
            "type": "surface"
           }
          ],
          "table": [
           {
            "cells": {
             "fill": {
              "color": "#EBF0F8"
             },
             "line": {
              "color": "white"
             }
            },
            "header": {
             "fill": {
              "color": "#C8D4E3"
             },
             "line": {
              "color": "white"
             }
            },
            "type": "table"
           }
          ]
         },
         "layout": {
          "annotationdefaults": {
           "arrowcolor": "#2a3f5f",
           "arrowhead": 0,
           "arrowwidth": 1
          },
          "autotypenumbers": "strict",
          "coloraxis": {
           "colorbar": {
            "outlinewidth": 0,
            "ticks": ""
           }
          },
          "colorscale": {
           "diverging": [
            [
             0,
             "#8e0152"
            ],
            [
             0.1,
             "#c51b7d"
            ],
            [
             0.2,
             "#de77ae"
            ],
            [
             0.3,
             "#f1b6da"
            ],
            [
             0.4,
             "#fde0ef"
            ],
            [
             0.5,
             "#f7f7f7"
            ],
            [
             0.6,
             "#e6f5d0"
            ],
            [
             0.7,
             "#b8e186"
            ],
            [
             0.8,
             "#7fbc41"
            ],
            [
             0.9,
             "#4d9221"
            ],
            [
             1,
             "#276419"
            ]
           ],
           "sequential": [
            [
             0,
             "#0d0887"
            ],
            [
             0.1111111111111111,
             "#46039f"
            ],
            [
             0.2222222222222222,
             "#7201a8"
            ],
            [
             0.3333333333333333,
             "#9c179e"
            ],
            [
             0.4444444444444444,
             "#bd3786"
            ],
            [
             0.5555555555555556,
             "#d8576b"
            ],
            [
             0.6666666666666666,
             "#ed7953"
            ],
            [
             0.7777777777777778,
             "#fb9f3a"
            ],
            [
             0.8888888888888888,
             "#fdca26"
            ],
            [
             1,
             "#f0f921"
            ]
           ],
           "sequentialminus": [
            [
             0,
             "#0d0887"
            ],
            [
             0.1111111111111111,
             "#46039f"
            ],
            [
             0.2222222222222222,
             "#7201a8"
            ],
            [
             0.3333333333333333,
             "#9c179e"
            ],
            [
             0.4444444444444444,
             "#bd3786"
            ],
            [
             0.5555555555555556,
             "#d8576b"
            ],
            [
             0.6666666666666666,
             "#ed7953"
            ],
            [
             0.7777777777777778,
             "#fb9f3a"
            ],
            [
             0.8888888888888888,
             "#fdca26"
            ],
            [
             1,
             "#f0f921"
            ]
           ]
          },
          "colorway": [
           "#636efa",
           "#EF553B",
           "#00cc96",
           "#ab63fa",
           "#FFA15A",
           "#19d3f3",
           "#FF6692",
           "#B6E880",
           "#FF97FF",
           "#FECB52"
          ],
          "font": {
           "color": "#2a3f5f"
          },
          "geo": {
           "bgcolor": "white",
           "lakecolor": "white",
           "landcolor": "white",
           "showlakes": true,
           "showland": true,
           "subunitcolor": "#C8D4E3"
          },
          "hoverlabel": {
           "align": "left"
          },
          "hovermode": "closest",
          "mapbox": {
           "style": "light"
          },
          "paper_bgcolor": "white",
          "plot_bgcolor": "white",
          "polar": {
           "angularaxis": {
            "gridcolor": "#EBF0F8",
            "linecolor": "#EBF0F8",
            "ticks": ""
           },
           "bgcolor": "white",
           "radialaxis": {
            "gridcolor": "#EBF0F8",
            "linecolor": "#EBF0F8",
            "ticks": ""
           }
          },
          "scene": {
           "xaxis": {
            "backgroundcolor": "white",
            "gridcolor": "#DFE8F3",
            "gridwidth": 2,
            "linecolor": "#EBF0F8",
            "showbackground": true,
            "ticks": "",
            "zerolinecolor": "#EBF0F8"
           },
           "yaxis": {
            "backgroundcolor": "white",
            "gridcolor": "#DFE8F3",
            "gridwidth": 2,
            "linecolor": "#EBF0F8",
            "showbackground": true,
            "ticks": "",
            "zerolinecolor": "#EBF0F8"
           },
           "zaxis": {
            "backgroundcolor": "white",
            "gridcolor": "#DFE8F3",
            "gridwidth": 2,
            "linecolor": "#EBF0F8",
            "showbackground": true,
            "ticks": "",
            "zerolinecolor": "#EBF0F8"
           }
          },
          "shapedefaults": {
           "line": {
            "color": "#2a3f5f"
           }
          },
          "ternary": {
           "aaxis": {
            "gridcolor": "#DFE8F3",
            "linecolor": "#A2B1C6",
            "ticks": ""
           },
           "baxis": {
            "gridcolor": "#DFE8F3",
            "linecolor": "#A2B1C6",
            "ticks": ""
           },
           "bgcolor": "white",
           "caxis": {
            "gridcolor": "#DFE8F3",
            "linecolor": "#A2B1C6",
            "ticks": ""
           }
          },
          "title": {
           "x": 0.05
          },
          "xaxis": {
           "automargin": true,
           "gridcolor": "#EBF0F8",
           "linecolor": "#EBF0F8",
           "ticks": "",
           "title": {
            "standoff": 15
           },
           "zerolinecolor": "#EBF0F8",
           "zerolinewidth": 2
          },
          "yaxis": {
           "automargin": true,
           "gridcolor": "#EBF0F8",
           "linecolor": "#EBF0F8",
           "ticks": "",
           "title": {
            "standoff": 15
           },
           "zerolinecolor": "#EBF0F8",
           "zerolinewidth": 2
          }
         }
        },
        "title": {
         "font": {
          "size": 20
         },
         "text": "IPO Oversubscription vs Listing Gain (%)"
        },
        "xaxis": {
         "anchor": "y",
         "domain": [
          0,
          1
         ],
         "showgrid": true,
         "title": {
          "text": "Issue_Size(crores)"
         }
        },
        "yaxis": {
         "anchor": "x",
         "domain": [
          0,
          1
         ],
         "showgrid": true,
         "title": {
          "text": "Listing Gain (%)"
         }
        }
       }
      }
     },
     "metadata": {},
     "output_type": "display_data"
    }
   ],
   "source": [
    "cols = ['IPO_Name', 'QIB', 'HNI', 'RII', 'Issue_Size(crores)', 'Listing_Return_%']\n",
    "IPO_df_subset = IPO_df[cols].dropna()\n",
    "\n",
    "import plotly.express as px\n",
    "\n",
    "fig = px.scatter(\n",
    "    IPO_df_subset,\n",
    "    x='Issue_Size(crores)',\n",
    "    y='Listing_Return_%',\n",
    "    size='Issue_Size(crores)',        # bubble size (optional)\n",
    "    color='QIB',                      # color by QIB subscription\n",
    "    hover_name='IPO_Name',            # show IPO name on hover\n",
    "    title='IPO Oversubscription vs Listing Gain (%)',\n",
    "    labels={'Total': 'Total Subscription (x times)', 'Listing_Return_%': 'Listing Gain (%)'},\n",
    ")\n",
    "\n",
    "fig.update_layout(\n",
    "    template='plotly_white',\n",
    "    title_font=dict(size=20),\n",
    "    xaxis=dict(showgrid=True),\n",
    "    yaxis=dict(showgrid=True),\n",
    ")\n",
    "fig.write_image('IPO Oversubscription VS Listing Gain(%).png')\n",
    "fig.show()"
   ]
  },
  {
   "cell_type": "markdown",
   "id": "2397d7da",
   "metadata": {},
   "source": [
    "Which visualization best compares top 10 IPOs by listing gain?\n"
   ]
  },
  {
   "cell_type": "code",
   "execution_count": 123,
   "id": "2f5c9c1d",
   "metadata": {},
   "outputs": [
    {
     "data": {
      "image/png": "[encoded data removed]",
      "text/plain": [
       "<Figure size 640x480 with 1 Axes>"
      ]
     },
     "metadata": {},
     "output_type": "display_data"
    }
   ],
   "source": [
    "top10_listing = IPO_df.nlargest(10, 'Listing_Return_%')[['IPO_Name', 'Listing_Return_%']]\n",
    "plt.Figure(figsize=(10,6))\n",
    "sn.barplot(data=top10_listing,\n",
    "           y='IPO_Name',\n",
    "           x='Listing_Return_%',\n",
    "           palette='viridis',\n",
    "           legend=False,\n",
    "           hue='IPO_Name')\n",
    "\n",
    "plt.title('Top 10 IPOs by Listing Gain (%)', fontsize=14)\n",
    "plt.xlabel('Listing_Rrturn_%')\n",
    "plt.ylabel('IPO Name')\n",
    "plt.grid(True, axis='x', linestyle='--', alpha=0.5)\n",
    "plt.savefig('Top 10 IPOs by Listing Gain (%).png',)\n",
    "plt.show()\n"
   ]
  },
  {
   "cell_type": "markdown",
   "id": "39872446",
   "metadata": {},
   "source": [
    "Can we build a filter-based dashboard where users can view IPOs by year, issue size, or gain range?\n"
   ]
  },
  {
   "cell_type": "code",
   "execution_count": 124,
   "id": "9ab8efd7",
   "metadata": {},
   "outputs": [
    {
     "name": "stderr",
     "output_type": "stream",
     "text": [
      "2025-10-12 09:00:48.735 Thread 'MainThread': missing ScriptRunContext! This warning can be ignored when running in bare mode.\n",
      "2025-10-12 09:00:48.741 Thread 'MainThread': missing ScriptRunContext! This warning can be ignored when running in bare mode.\n",
      "2025-10-12 09:00:48.746 Thread 'MainThread': missing ScriptRunContext! This warning can be ignored when running in bare mode.\n",
      "2025-10-12 09:00:48.750 Thread 'MainThread': missing ScriptRunContext! This warning can be ignored when running in bare mode.\n",
      "2025-10-12 09:00:48.751 Thread 'MainThread': missing ScriptRunContext! This warning can be ignored when running in bare mode.\n",
      "2025-10-12 09:00:48.757 Thread 'MainThread': missing ScriptRunContext! This warning can be ignored when running in bare mode.\n",
      "2025-10-12 09:00:48.763 Thread 'MainThread': missing ScriptRunContext! This warning can be ignored when running in bare mode.\n",
      "2025-10-12 09:00:48.766 Thread 'MainThread': missing ScriptRunContext! This warning can be ignored when running in bare mode.\n",
      "2025-10-12 09:00:48.767 Thread 'MainThread': missing ScriptRunContext! This warning can be ignored when running in bare mode.\n",
      "2025-10-12 09:00:48.769 Thread 'MainThread': missing ScriptRunContext! This warning can be ignored when running in bare mode.\n",
      "2025-10-12 09:00:48.770 Thread 'MainThread': missing ScriptRunContext! This warning can be ignored when running in bare mode.\n",
      "2025-10-12 09:00:48.772 Thread 'MainThread': missing ScriptRunContext! This warning can be ignored when running in bare mode.\n",
      "2025-10-12 09:00:48.779 Thread 'MainThread': missing ScriptRunContext! This warning can be ignored when running in bare mode.\n",
      "2025-10-12 09:00:48.780 Thread 'MainThread': missing ScriptRunContext! This warning can be ignored when running in bare mode.\n",
      "2025-10-12 09:00:48.781 Thread 'MainThread': missing ScriptRunContext! This warning can be ignored when running in bare mode.\n",
      "2025-10-12 09:00:48.783 Thread 'MainThread': missing ScriptRunContext! This warning can be ignored when running in bare mode.\n",
      "2025-10-12 09:00:48.784 Thread 'MainThread': missing ScriptRunContext! This warning can be ignored when running in bare mode.\n",
      "2025-10-12 09:00:48.785 Thread 'MainThread': missing ScriptRunContext! This warning can be ignored when running in bare mode.\n",
      "2025-10-12 09:00:48.786 Thread 'MainThread': missing ScriptRunContext! This warning can be ignored when running in bare mode.\n",
      "2025-10-12 09:00:48.787 Thread 'MainThread': missing ScriptRunContext! This warning can be ignored when running in bare mode.\n",
      "2025-10-12 09:00:48.791 Thread 'MainThread': missing ScriptRunContext! This warning can be ignored when running in bare mode.\n",
      "2025-10-12 09:00:48.796 Thread 'MainThread': missing ScriptRunContext! This warning can be ignored when running in bare mode.\n",
      "2025-10-12 09:00:48.798 Thread 'MainThread': missing ScriptRunContext! This warning can be ignored when running in bare mode.\n",
      "2025-10-12 09:00:48.799 Thread 'MainThread': missing ScriptRunContext! This warning can be ignored when running in bare mode.\n",
      "2025-10-12 09:00:48.801 Thread 'MainThread': missing ScriptRunContext! This warning can be ignored when running in bare mode.\n",
      "2025-10-12 09:00:48.802 Thread 'MainThread': missing ScriptRunContext! This warning can be ignored when running in bare mode.\n",
      "2025-10-12 09:00:48.802 Thread 'MainThread': missing ScriptRunContext! This warning can be ignored when running in bare mode.\n",
      "2025-10-12 09:00:48.806 Thread 'MainThread': missing ScriptRunContext! This warning can be ignored when running in bare mode.\n",
      "2025-10-12 09:00:48.808 Thread 'MainThread': missing ScriptRunContext! This warning can be ignored when running in bare mode.\n",
      "2025-10-12 09:00:48.810 Thread 'MainThread': missing ScriptRunContext! This warning can be ignored when running in bare mode.\n",
      "2025-10-12 09:00:48.810 Thread 'MainThread': missing ScriptRunContext! This warning can be ignored when running in bare mode.\n",
      "2025-10-12 09:00:48.812 Thread 'MainThread': missing ScriptRunContext! This warning can be ignored when running in bare mode.\n",
      "2025-10-12 09:00:48.812 Thread 'MainThread': missing ScriptRunContext! This warning can be ignored when running in bare mode.\n",
      "2025-10-12 09:00:48.813 Thread 'MainThread': missing ScriptRunContext! This warning can be ignored when running in bare mode.\n",
      "2025-10-12 09:00:48.815 Thread 'MainThread': missing ScriptRunContext! This warning can be ignored when running in bare mode.\n",
      "2025-10-12 09:00:48.815 Thread 'MainThread': missing ScriptRunContext! This warning can be ignored when running in bare mode.\n",
      "2025-10-12 09:00:48.817 Thread 'MainThread': missing ScriptRunContext! This warning can be ignored when running in bare mode.\n",
      "2025-10-12 09:00:48.891 Thread 'MainThread': missing ScriptRunContext! This warning can be ignored when running in bare mode.\n",
      "2025-10-12 09:00:48.892 Thread 'MainThread': missing ScriptRunContext! This warning can be ignored when running in bare mode.\n",
      "2025-10-12 09:00:48.893 Thread 'MainThread': missing ScriptRunContext! This warning can be ignored when running in bare mode.\n",
      "2025-10-12 09:00:48.895 Thread 'MainThread': missing ScriptRunContext! This warning can be ignored when running in bare mode.\n",
      "2025-10-12 09:00:48.895 Thread 'MainThread': missing ScriptRunContext! This warning can be ignored when running in bare mode.\n",
      "2025-10-12 09:00:48.962 Thread 'MainThread': missing ScriptRunContext! This warning can be ignored when running in bare mode.\n",
      "2025-10-12 09:00:48.963 Thread 'MainThread': missing ScriptRunContext! This warning can be ignored when running in bare mode.\n",
      "2025-10-12 09:00:48.964 Thread 'MainThread': missing ScriptRunContext! This warning can be ignored when running in bare mode.\n",
      "2025-10-12 09:00:48.964 Thread 'MainThread': missing ScriptRunContext! This warning can be ignored when running in bare mode.\n",
      "2025-10-12 09:00:48.965 Thread 'MainThread': missing ScriptRunContext! This warning can be ignored when running in bare mode.\n",
      "2025-10-12 09:00:48.966 Thread 'MainThread': missing ScriptRunContext! This warning can be ignored when running in bare mode.\n",
      "2025-10-12 09:00:48.966 Thread 'MainThread': missing ScriptRunContext! This warning can be ignored when running in bare mode.\n",
      "2025-10-12 09:00:48.967 Thread 'MainThread': missing ScriptRunContext! This warning can be ignored when running in bare mode.\n",
      "2025-10-12 09:00:49.025 Thread 'MainThread': missing ScriptRunContext! This warning can be ignored when running in bare mode.\n",
      "2025-10-12 09:00:49.026 Thread 'MainThread': missing ScriptRunContext! This warning can be ignored when running in bare mode.\n",
      "2025-10-12 09:00:49.027 Thread 'MainThread': missing ScriptRunContext! This warning can be ignored when running in bare mode.\n"
     ]
    },
    {
     "data": {
      "text/plain": [
       "DeltaGenerator()"
      ]
     },
     "execution_count": 124,
     "metadata": {},
     "output_type": "execute_result"
    }
   ],
   "source": [
    "import streamlit as st\n",
    "import plotly.express as px\n",
    "\n",
    "\n",
    "# Ensure proper datetime format\n",
    "IPO_df['Date'] = pd.to_datetime(IPO_df['Date'], errors='coerce')\n",
    "IPO_df['Year'] = IPO_df['Date'].dt.year\n",
    "\n",
    "st.sidebar.header(\"📊 Filter IPOs\")\n",
    "\n",
    "# Filter 1: Year\n",
    "years = sorted(IPO_df['Year'].dropna().unique())\n",
    "selected_year = st.sidebar.multiselect(\"Select Year(s):\", years, default=years)\n",
    "\n",
    "# Filter 2: Issue Size Range\n",
    "min_issue, max_issue = int(IPO_df['Issue_Size(crores)'].min()), int(IPO_df['Issue_Size(crores)'].max())\n",
    "issue_range = st.sidebar.slider(\"Issue Size (₹ Cr):\", min_issue, max_issue, (min_issue, max_issue))\n",
    "\n",
    "# Filter 3: Listing Gain %\n",
    "min_gain, max_gain = int(IPO_df['Listing_Return_%'].min()), int(IPO_df['Listing_Return_%'].max())\n",
    "gain_range = st.sidebar.slider(\"Listing Gain Range (%):\", min_gain, max_gain, (min_gain, max_gain))\n",
    "\n",
    "filtered_df = IPO_df[\n",
    "    (IPO_df['Year'].isin(selected_year)) &\n",
    "    (IPO_df['Issue_Size(crores)'].between(issue_range[0], issue_range[1])) &\n",
    "    (IPO_df['Listing_Return_%'].between(gain_range[0], gain_range[1]))\n",
    "]\n",
    "\n",
    "st.markdown(\"### 🧭 Key Performance Indicators\")\n",
    "\n",
    "col1, col2, col3 = st.columns(3)\n",
    "col1.metric(\"Total IPOs\", len(filtered_df))\n",
    "col2.metric(\"Avg Listing Gain (%)\", round(filtered_df['Listing_Return_%'].mean(), 2))\n",
    "col3.metric(\"Avg Current Gain (%)\", round(filtered_df['Current Gains'].mean(), 2))\n",
    "\n",
    "fig1 = px.scatter(\n",
    "    filtered_df, \n",
    "    x='Issue_Size(crores)', \n",
    "    y='Listing_Return_%',\n",
    "    color='Year',\n",
    "    hover_data=['IPO_Name'],\n",
    "    title=\"Issue Size vs Listing Gain\"\n",
    ")\n",
    "st.plotly_chart(fig1, use_container_width=True)\n",
    "\n",
    "\n",
    "top10 = filtered_df.nlargest(10, 'Listing_Return_%')\n",
    "fig2 = px.bar(\n",
    "    top10, \n",
    "    x='Listing_Return_%', \n",
    "    y='IPO_Name', \n",
    "    orientation='h',\n",
    "    color='Listing_Return_%',\n",
    "    title=\"Top 10 IPOs by Listing Gain\"\n",
    ")\n",
    "st.plotly_chart(fig2, use_container_width=True)\n",
    "\n",
    "\n",
    "st.markdown(\"### 📋 Filtered IPO Data\")\n",
    "st.dataframe(filtered_df[['Date','IPO_Name','Issue_Size(crores)','Listing_Return_%','Current Gains']])\n"
   ]
  },
  {
   "cell_type": "markdown",
   "id": "6f5161d0",
   "metadata": {},
   "source": [
    "http://10.211.45.220:8501Can we show a comparison between offer price, list price, and current market price for each IPO?\n"
   ]
  },
  {
   "cell_type": "code",
   "execution_count": 125,
   "id": "9ecff106",
   "metadata": {},
   "outputs": [
    {
     "data": {
      "application/vnd.plotly.v1+json": {
       "config": {
        "plotlyServerURL": "https://plot.ly"
       },
       "data": [
        {
         "alignmentgroup": "True",
         "hovertemplate": "variable=Offer Price<br>IPO=%{x}<br>Price (₹)=%{y}<extra></extra>",
         "legendgroup": "Offer Price",
         "marker": {
          "color": "#000004",
          "pattern": {
           "shape": ""
          }
         },
         "name": "Offer Price",
         "offsetgroup": "Offer Price",
         "orientation": "v",
         "showlegend": true,
         "textposition": "auto",
         "type": "bar",
         "x": [
          "Sigachi Industries Limited",
          "Vibhor Steel Tubes Limited",
          "Paras Defence and Space Technologies Limited",
          "Latent View Analytics",
          "Mamata Machinery Limited",
          "Tata Technologies Limited",
          "Salasar Techno Engineering Ltd",
          "BLS E-Services Limited",
          "Astron Paper & Board Mill Ltd",
          "Premier Energies Limited",
          "Chemcon Speciality Chemicals Ltd",
          "Bajaj Housing Finance Limited",
          "KRN Heat Exchanger and Refrigeration Limited",
          "Unicommerce eSolutions Limited",
          "Happiest Minds Technologies Ltd",
          "G R Infraprojects Limited",
          "Route Mobile Ltd",
          "Avenue Supermarts Ltd (DMart)",
          "Indian Railway Catering and Tourism Corporation Ltd",
          "Clean Science and Technology Limited"
         ],
         "xaxis": "x",
         "y": {
          "bdata": "AAAAAABgZEAAAAAAAOBiQAAAAAAA4GVAAAAAAACgaEAAAAAAAGBuQAAAAAAAQH9AAAAAAAAAW0AAAAAAAOBgQAAAAAAAAElAAAAAAAAgfEAAAAAAAEB1QAAAAAAAgFFAAAAAAACAa0AAAAAAAABbQAAAAAAAwGRAAAAAAAAoikAAAAAAAOB1QAAAAAAAsHJAAAAAAAAAdEAAAAAAACCMQA==",
          "dtype": "f8"
         },
         "yaxis": "y"
        },
        {
         "alignmentgroup": "True",
         "hovertemplate": "variable=List Price<br>IPO=%{x}<br>Price (₹)=%{y}<extra></extra>",
         "legendgroup": "List Price",
         "marker": {
          "color": "orange",
          "pattern": {
           "shape": ""
          }
         },
         "name": "List Price",
         "offsetgroup": "List Price",
         "orientation": "v",
         "showlegend": true,
         "textposition": "auto",
         "type": "bar",
         "x": [
          "Sigachi Industries Limited",
          "Vibhor Steel Tubes Limited",
          "Paras Defence and Space Technologies Limited",
          "Latent View Analytics",
          "Mamata Machinery Limited",
          "Tata Technologies Limited",
          "Salasar Techno Engineering Ltd",
          "BLS E-Services Limited",
          "Astron Paper & Board Mill Ltd",
          "Premier Energies Limited",
          "Chemcon Speciality Chemicals Ltd",
          "Bajaj Housing Finance Limited",
          "KRN Heat Exchanger and Refrigeration Limited",
          "Unicommerce eSolutions Limited",
          "Happiest Minds Technologies Ltd",
          "G R Infraprojects Limited",
          "Route Mobile Ltd",
          "Avenue Supermarts Ltd (DMart)",
          "Indian Railway Catering and Tourism Corporation Ltd",
          "Clean Science and Technology Limited"
         ],
         "xaxis": "x",
         "y": {
          "bdata": "AAAAAAD4gUAAAAAAAFB6QAAAAAAAsH1AAAAAAACQgEAAAAAAAMCCQM3MzMzMv5JAZmZmZmYycEAAAAAAAFBzQAAAAAAAgFxAAAAAAAD4jkCamZmZmdeGQAAAAAAAwGJAAAAAAABgfUAAAAAAAMBsQAAAAAAA8HVAAAAAAACQmkAAAAAAACCGQDMzMzMz44JAAAAAAAAghECamZmZmeGbQA==",
          "dtype": "f8"
         },
         "yaxis": "y"
        },
        {
         "alignmentgroup": "True",
         "hovertemplate": "variable=CMP(BSE)<br>IPO=%{x}<br>Price (₹)=%{y}<extra></extra>",
         "legendgroup": "CMP(BSE)",
         "marker": {
          "color": "green",
          "pattern": {
           "shape": ""
          }
         },
         "name": "CMP(BSE)",
         "offsetgroup": "CMP(BSE)",
         "orientation": "v",
         "showlegend": true,
         "textposition": "auto",
         "type": "bar",
         "x": [
          "Sigachi Industries Limited",
          "Vibhor Steel Tubes Limited",
          "Paras Defence and Space Technologies Limited",
          "Latent View Analytics",
          "Mamata Machinery Limited",
          "Tata Technologies Limited",
          "Salasar Techno Engineering Ltd",
          "BLS E-Services Limited",
          "Astron Paper & Board Mill Ltd",
          "Premier Energies Limited",
          "Chemcon Speciality Chemicals Ltd",
          "Bajaj Housing Finance Limited",
          "KRN Heat Exchanger and Refrigeration Limited",
          "Unicommerce eSolutions Limited",
          "Happiest Minds Technologies Ltd",
          "G R Infraprojects Limited",
          "Route Mobile Ltd",
          "Avenue Supermarts Ltd (DMart)",
          "Indian Railway Catering and Tourism Corporation Ltd",
          "Clean Science and Technology Limited"
         ],
         "xaxis": "x",
         "y": {
          "bdata": "4XoUrkehP0BmZmZmZsZjQGZmZmZmYIRAAAAAAADYeECamZmZmXF6QAAAAAAA6oRAMzMzMzMzHEAzMzMzMztnQAAAAAAAgC1AmpmZmZm7j0BmZmZmZv5sQM3MzMzMTFxAAAAAAAB6jEBmZmZmZhZfQGZmZmZmKoJAZmZmZmZpk0DNzMzMzFaLQJqZmZnZj7BAMzMzMzO1hkCamZmZmVuSQA==",
          "dtype": "f8"
         },
         "yaxis": "y"
        }
       ],
       "layout": {
        "barmode": "group",
        "height": 500,
        "legend": {
         "title": {
          "text": "variable"
         },
         "tracegroupgap": 0
        },
        "template": {
         "data": {
          "candlestick": [
           {
            "decreasing": {
             "line": {
              "color": "#000033"
             }
            },
            "increasing": {
             "line": {
              "color": "#000032"
             }
            },
            "type": "candlestick"
           }
          ],
          "contour": [
           {
            "colorscale": [
             [
              0,
              "#000011"
             ],
             [
              0.1111111111111111,
              "#000012"
             ],
             [
              0.2222222222222222,
              "#000013"
             ],
             [
              0.3333333333333333,
              "#000014"
             ],
             [
              0.4444444444444444,
              "#000015"
             ],
             [
              0.5555555555555556,
              "#000016"
             ],
             [
              0.6666666666666666,
              "#000017"
             ],
             [
              0.7777777777777778,
              "#000018"
             ],
             [
              0.8888888888888888,
              "#000019"
             ],
             [
              1,
              "#000020"
             ]
            ],
            "type": "contour"
           }
          ],
          "contourcarpet": [
           {
            "colorscale": [
             [
              0,
              "#000011"
             ],
             [
              0.1111111111111111,
              "#000012"
             ],
             [
              0.2222222222222222,
              "#000013"
             ],
             [
              0.3333333333333333,
              "#000014"
             ],
             [
              0.4444444444444444,
              "#000015"
             ],
             [
              0.5555555555555556,
              "#000016"
             ],
             [
              0.6666666666666666,
              "#000017"
             ],
             [
              0.7777777777777778,
              "#000018"
             ],
             [
              0.8888888888888888,
              "#000019"
             ],
             [
              1,
              "#000020"
             ]
            ],
            "type": "contourcarpet"
           }
          ],
          "heatmap": [
           {
            "colorscale": [
             [
              0,
              "#000011"
             ],
             [
              0.1111111111111111,
              "#000012"
             ],
             [
              0.2222222222222222,
              "#000013"
             ],
             [
              0.3333333333333333,
              "#000014"
             ],
             [
              0.4444444444444444,
              "#000015"
             ],
             [
              0.5555555555555556,
              "#000016"
             ],
             [
              0.6666666666666666,
              "#000017"
             ],
             [
              0.7777777777777778,
              "#000018"
             ],
             [
              0.8888888888888888,
              "#000019"
             ],
             [
              1,
              "#000020"
             ]
            ],
            "type": "heatmap"
           }
          ],
          "histogram2d": [
           {
            "colorscale": [
             [
              0,
              "#000011"
             ],
             [
              0.1111111111111111,
              "#000012"
             ],
             [
              0.2222222222222222,
              "#000013"
             ],
             [
              0.3333333333333333,
              "#000014"
             ],
             [
              0.4444444444444444,
              "#000015"
             ],
             [
              0.5555555555555556,
              "#000016"
             ],
             [
              0.6666666666666666,
              "#000017"
             ],
             [
              0.7777777777777778,
              "#000018"
             ],
             [
              0.8888888888888888,
              "#000019"
             ],
             [
              1,
              "#000020"
             ]
            ],
            "type": "histogram2d"
           }
          ],
          "icicle": [
           {
            "textfont": {
             "color": "white"
            },
            "type": "icicle"
           }
          ],
          "sankey": [
           {
            "textfont": {
             "color": "#000036"
            },
            "type": "sankey"
           }
          ],
          "scatter": [
           {
            "marker": {
             "line": {
              "width": 0
             }
            },
            "type": "scatter"
           }
          ],
          "table": [
           {
            "cells": {
             "fill": {
              "color": "#000038"
             },
             "font": {
              "color": "#000037"
             },
             "line": {
              "color": "#000039"
             }
            },
            "header": {
             "fill": {
              "color": "#000040"
             },
             "font": {
              "color": "#000036"
             },
             "line": {
              "color": "#000039"
             }
            },
            "type": "table"
           }
          ],
          "waterfall": [
           {
            "connector": {
             "line": {
              "color": "#000036",
              "width": 2
             }
            },
            "decreasing": {
             "marker": {
              "color": "#000033"
             }
            },
            "increasing": {
             "marker": {
              "color": "#000032"
             }
            },
            "totals": {
             "marker": {
              "color": "#000034"
             }
            },
            "type": "waterfall"
           }
          ]
         },
         "layout": {
          "coloraxis": {
           "colorscale": [
            [
             0,
             "#000011"
            ],
            [
             0.1111111111111111,
             "#000012"
            ],
            [
             0.2222222222222222,
             "#000013"
            ],
            [
             0.3333333333333333,
             "#000014"
            ],
            [
             0.4444444444444444,
             "#000015"
            ],
            [
             0.5555555555555556,
             "#000016"
            ],
            [
             0.6666666666666666,
             "#000017"
            ],
            [
             0.7777777777777778,
             "#000018"
            ],
            [
             0.8888888888888888,
             "#000019"
            ],
            [
             1,
             "#000020"
            ]
           ]
          },
          "colorscale": {
           "diverging": [
            [
             0,
             "#000021"
            ],
            [
             0.1,
             "#000022"
            ],
            [
             0.2,
             "#000023"
            ],
            [
             0.3,
             "#000024"
            ],
            [
             0.4,
             "#000025"
            ],
            [
             0.5,
             "#000026"
            ],
            [
             0.6,
             "#000027"
            ],
            [
             0.7,
             "#000028"
            ],
            [
             0.8,
             "#000029"
            ],
            [
             0.9,
             "#000030"
            ],
            [
             1,
             "#000031"
            ]
           ],
           "sequential": [
            [
             0,
             "#000011"
            ],
            [
             0.1111111111111111,
             "#000012"
            ],
            [
             0.2222222222222222,
             "#000013"
            ],
            [
             0.3333333333333333,
             "#000014"
            ],
            [
             0.4444444444444444,
             "#000015"
            ],
            [
             0.5555555555555556,
             "#000016"
            ],
            [
             0.6666666666666666,
             "#000017"
            ],
            [
             0.7777777777777778,
             "#000018"
            ],
            [
             0.8888888888888888,
             "#000019"
            ],
            [
             1,
             "#000020"
            ]
           ],
           "sequentialminus": [
            [
             0,
             "#000011"
            ],
            [
             0.1111111111111111,
             "#000012"
            ],
            [
             0.2222222222222222,
             "#000013"
            ],
            [
             0.3333333333333333,
             "#000014"
            ],
            [
             0.4444444444444444,
             "#000015"
            ],
            [
             0.5555555555555556,
             "#000016"
            ],
            [
             0.6666666666666666,
             "#000017"
            ],
            [
             0.7777777777777778,
             "#000018"
            ],
            [
             0.8888888888888888,
             "#000019"
            ],
            [
             1,
             "#000020"
            ]
           ]
          },
          "colorway": [
           "#000001",
           "#000002",
           "#000003",
           "#000004",
           "#000005",
           "#000006",
           "#000007",
           "#000008",
           "#000009",
           "#000010"
          ]
         }
        },
        "title": {
         "text": "Comparison Between, Offer Price, List Price, and Current Market Price"
        },
        "xaxis": {
         "anchor": "y",
         "domain": [
          0,
          1
         ],
         "tickangle": -45,
         "title": {
          "text": "IPO"
         }
        },
        "yaxis": {
         "anchor": "x",
         "domain": [
          0,
          1
         ],
         "title": {
          "text": "Price (₹)"
         }
        }
       }
      }
     },
     "metadata": {},
     "output_type": "display_data"
    }
   ],
   "source": [
    "IPO_df['Offer_Price'] = pd.to_numeric(IPO_df['Offer Price'], errors='coerce')\n",
    "IPO_df['List Price'] = pd.to_numeric(IPO_df['List Price'], errors='coerce')\n",
    "IPO_df['CMP'] = pd.to_numeric(IPO_df['CMP(BSE)'], errors='coerce')\n",
    "\n",
    "import plotly.express as px\n",
    "\n",
    "# Select top N IPOs to avoid clutter\n",
    "top_n = 20\n",
    "top_ipo_df = IPO_df.nlargest(top_n, 'Listing_Return_%')\n",
    "\n",
    "fig = px.bar(\n",
    "    top_ipo_df,\n",
    "    x='IPO_Name',\n",
    "    y=['Offer Price', 'List Price', 'CMP(BSE)'],\n",
    "    barmode='group',\n",
    "    title=\"Comparison Between, Offer Price, List Price, and Current Market Price\",\n",
    "    labels={'value':'Price (₹)', 'IPO_Name':'IPO'},\n",
    "    height=500,\n",
    "    color_discrete_map={\n",
    "        'Offer_Price':'skyblue',\n",
    "        'List Price':'orange',\n",
    "        'CMP(BSE)':'green'\n",
    "    }\n",
    ")\n",
    "\n",
    "fig.update_layout(xaxis_tickangle=-45)\n",
    "fig.write_image('Comparison Between, Offer Price, List Price, and Current Market Price.png')\n",
    "fig.show()\n"
   ]
  },
  {
   "cell_type": "markdown",
   "id": "f34e25ad",
   "metadata": {},
   "source": [
    "What kind of interactive chart can show listing vs current gains side by side for all IPOs?\n"
   ]
  },
  {
   "cell_type": "code",
   "execution_count": 147,
   "id": "4cfb0699",
   "metadata": {},
   "outputs": [
    {
     "data": {
      "application/vnd.plotly.v1+json": {
       "config": {
        "plotlyServerURL": "https://plot.ly"
       },
       "data": [
        {
         "alignmentgroup": "True",
         "hovertemplate": "Gain_Type=Listing_Return_%<br>IPO=%{x}<br>Gain(%)=%{y}<extra></extra>",
         "legendgroup": "Listing_Return_%",
         "marker": {
          "color": "green",
          "pattern": {
           "shape": ""
          }
         },
         "name": "Listing_Return_%",
         "offsetgroup": "Listing_Return_%",
         "orientation": "v",
         "showlegend": true,
         "textposition": "auto",
         "type": "bar",
         "x": [
          "Mamata Machinery Limited",
          "KRN Heat Exchanger and Refrigeration Limited",
          "Bajaj Housing Finance Limited",
          "Premier Energies Limited",
          "Unicommerce eSolutions Limited",
          "Vibhor Steel Tubes Limited",
          "BLS E-Services Limited",
          "Tata Technologies Limited",
          "Latent View Analytics",
          "Sigachi Industries Limited",
          "Paras Defence and Space Technologies Limited",
          "G R Infraprojects Limited",
          "Clean Science and Technology Limited",
          "Chemcon Speciality Chemicals Ltd",
          "Route Mobile Ltd",
          "Happiest Minds Technologies Ltd",
          "Indian Railway Catering and Tourism Corporation Ltd",
          "Astron Paper & Board Mill Ltd",
          "Salasar Techno Engineering Ltd",
          "Avenue Supermarts Ltd (DMart)"
         ],
         "xaxis": "x",
         "y": {
          "bdata": "hetRuB5dYkApXI/C9WhcQMP1KFyPklxArkfhehQOXkA9CtejcD1cQFK4HoXrWWZAFK5H4XocYEBI4XoUrn9hQOF6FK5HIWVAuB6F61GYb0D2KFyPwm1lQNejcD0Kx1lA4XoUrkeRWECPwvUoXL9cQMP1KFyPkllAzczMzMzcW0AAAAAAAFBZQAAAAAAAAGBAZmZmZmZ+YUApXI/C9YhZQA==",
          "dtype": "f8"
         },
         "yaxis": "y"
        },
        {
         "alignmentgroup": "True",
         "hovertemplate": "Gain_Type=Current Gains<br>IPO=%{x}<br>Gain(%)=%{y}<extra></extra>",
         "legendgroup": "Current Gains",
         "marker": {
          "color": "orange",
          "pattern": {
           "shape": ""
          }
         },
         "name": "Current Gains",
         "offsetgroup": "Current Gains",
         "orientation": "v",
         "showlegend": true,
         "textposition": "auto",
         "type": "bar",
         "x": [
          "Mamata Machinery Limited",
          "KRN Heat Exchanger and Refrigeration Limited",
          "Bajaj Housing Finance Limited",
          "Premier Energies Limited",
          "Unicommerce eSolutions Limited",
          "Vibhor Steel Tubes Limited",
          "BLS E-Services Limited",
          "Tata Technologies Limited",
          "Latent View Analytics",
          "Sigachi Industries Limited",
          "Paras Defence and Space Technologies Limited",
          "G R Infraprojects Limited",
          "Clean Science and Technology Limited",
          "Chemcon Speciality Chemicals Ltd",
          "Route Mobile Ltd",
          "Happiest Minds Technologies Ltd",
          "Indian Railway Catering and Tourism Corporation Ltd",
          "Astron Paper & Board Mill Ltd",
          "Salasar Techno Engineering Ltd",
          "Avenue Supermarts Ltd (DMart)"
         ],
         "xaxis": "x",
         "y": {
          "bdata": "SOF6FK6HUkAzMzMzM6NzQHsUrkfh2k5ACtejcD1qX0BI4XoUrkcuQBSuR+F6FBNA9ihcj8LVQkDNzMzMzOxAQFK4HoXrcVlAZmZmZmYmVMCamZmZmQlxQNejcD0KN0hACtejcD2KPkBI4XoUrsc/wB+F61G4vmJA9ihcj8JFb0CF61G4HsVfQAAAAAAAoFHArkfhehReV8DXo3A9CpiUQA==",
          "dtype": "f8"
         },
         "yaxis": "y"
        }
       ],
       "layout": {
        "barmode": "group",
        "height": 500,
        "legend": {
         "title": {
          "text": "Gain_Type"
         },
         "tracegroupgap": 0
        },
        "template": {
         "data": {
          "candlestick": [
           {
            "decreasing": {
             "line": {
              "color": "#000033"
             }
            },
            "increasing": {
             "line": {
              "color": "#000032"
             }
            },
            "type": "candlestick"
           }
          ],
          "contour": [
           {
            "colorscale": [
             [
              0,
              "#000011"
             ],
             [
              0.1111111111111111,
              "#000012"
             ],
             [
              0.2222222222222222,
              "#000013"
             ],
             [
              0.3333333333333333,
              "#000014"
             ],
             [
              0.4444444444444444,
              "#000015"
             ],
             [
              0.5555555555555556,
              "#000016"
             ],
             [
              0.6666666666666666,
              "#000017"
             ],
             [
              0.7777777777777778,
              "#000018"
             ],
             [
              0.8888888888888888,
              "#000019"
             ],
             [
              1,
              "#000020"
             ]
            ],
            "type": "contour"
           }
          ],
          "contourcarpet": [
           {
            "colorscale": [
             [
              0,
              "#000011"
             ],
             [
              0.1111111111111111,
              "#000012"
             ],
             [
              0.2222222222222222,
              "#000013"
             ],
             [
              0.3333333333333333,
              "#000014"
             ],
             [
              0.4444444444444444,
              "#000015"
             ],
             [
              0.5555555555555556,
              "#000016"
             ],
             [
              0.6666666666666666,
              "#000017"
             ],
             [
              0.7777777777777778,
              "#000018"
             ],
             [
              0.8888888888888888,
              "#000019"
             ],
             [
              1,
              "#000020"
             ]
            ],
            "type": "contourcarpet"
           }
          ],
          "heatmap": [
           {
            "colorscale": [
             [
              0,
              "#000011"
             ],
             [
              0.1111111111111111,
              "#000012"
             ],
             [
              0.2222222222222222,
              "#000013"
             ],
             [
              0.3333333333333333,
              "#000014"
             ],
             [
              0.4444444444444444,
              "#000015"
             ],
             [
              0.5555555555555556,
              "#000016"
             ],
             [
              0.6666666666666666,
              "#000017"
             ],
             [
              0.7777777777777778,
              "#000018"
             ],
             [
              0.8888888888888888,
              "#000019"
             ],
             [
              1,
              "#000020"
             ]
            ],
            "type": "heatmap"
           }
          ],
          "histogram2d": [
           {
            "colorscale": [
             [
              0,
              "#000011"
             ],
             [
              0.1111111111111111,
              "#000012"
             ],
             [
              0.2222222222222222,
              "#000013"
             ],
             [
              0.3333333333333333,
              "#000014"
             ],
             [
              0.4444444444444444,
              "#000015"
             ],
             [
              0.5555555555555556,
              "#000016"
             ],
             [
              0.6666666666666666,
              "#000017"
             ],
             [
              0.7777777777777778,
              "#000018"
             ],
             [
              0.8888888888888888,
              "#000019"
             ],
             [
              1,
              "#000020"
             ]
            ],
            "type": "histogram2d"
           }
          ],
          "icicle": [
           {
            "textfont": {
             "color": "white"
            },
            "type": "icicle"
           }
          ],
          "sankey": [
           {
            "textfont": {
             "color": "#000036"
            },
            "type": "sankey"
           }
          ],
          "scatter": [
           {
            "marker": {
             "line": {
              "width": 0
             }
            },
            "type": "scatter"
           }
          ],
          "table": [
           {
            "cells": {
             "fill": {
              "color": "#000038"
             },
             "font": {
              "color": "#000037"
             },
             "line": {
              "color": "#000039"
             }
            },
            "header": {
             "fill": {
              "color": "#000040"
             },
             "font": {
              "color": "#000036"
             },
             "line": {
              "color": "#000039"
             }
            },
            "type": "table"
           }
          ],
          "waterfall": [
           {
            "connector": {
             "line": {
              "color": "#000036",
              "width": 2
             }
            },
            "decreasing": {
             "marker": {
              "color": "#000033"
             }
            },
            "increasing": {
             "marker": {
              "color": "#000032"
             }
            },
            "totals": {
             "marker": {
              "color": "#000034"
             }
            },
            "type": "waterfall"
           }
          ]
         },
         "layout": {
          "coloraxis": {
           "colorscale": [
            [
             0,
             "#000011"
            ],
            [
             0.1111111111111111,
             "#000012"
            ],
            [
             0.2222222222222222,
             "#000013"
            ],
            [
             0.3333333333333333,
             "#000014"
            ],
            [
             0.4444444444444444,
             "#000015"
            ],
            [
             0.5555555555555556,
             "#000016"
            ],
            [
             0.6666666666666666,
             "#000017"
            ],
            [
             0.7777777777777778,
             "#000018"
            ],
            [
             0.8888888888888888,
             "#000019"
            ],
            [
             1,
             "#000020"
            ]
           ]
          },
          "colorscale": {
           "diverging": [
            [
             0,
             "#000021"
            ],
            [
             0.1,
             "#000022"
            ],
            [
             0.2,
             "#000023"
            ],
            [
             0.3,
             "#000024"
            ],
            [
             0.4,
             "#000025"
            ],
            [
             0.5,
             "#000026"
            ],
            [
             0.6,
             "#000027"
            ],
            [
             0.7,
             "#000028"
            ],
            [
             0.8,
             "#000029"
            ],
            [
             0.9,
             "#000030"
            ],
            [
             1,
             "#000031"
            ]
           ],
           "sequential": [
            [
             0,
             "#000011"
            ],
            [
             0.1111111111111111,
             "#000012"
            ],
            [
             0.2222222222222222,
             "#000013"
            ],
            [
             0.3333333333333333,
             "#000014"
            ],
            [
             0.4444444444444444,
             "#000015"
            ],
            [
             0.5555555555555556,
             "#000016"
            ],
            [
             0.6666666666666666,
             "#000017"
            ],
            [
             0.7777777777777778,
             "#000018"
            ],
            [
             0.8888888888888888,
             "#000019"
            ],
            [
             1,
             "#000020"
            ]
           ],
           "sequentialminus": [
            [
             0,
             "#000011"
            ],
            [
             0.1111111111111111,
             "#000012"
            ],
            [
             0.2222222222222222,
             "#000013"
            ],
            [
             0.3333333333333333,
             "#000014"
            ],
            [
             0.4444444444444444,
             "#000015"
            ],
            [
             0.5555555555555556,
             "#000016"
            ],
            [
             0.6666666666666666,
             "#000017"
            ],
            [
             0.7777777777777778,
             "#000018"
            ],
            [
             0.8888888888888888,
             "#000019"
            ],
            [
             1,
             "#000020"
            ]
           ]
          },
          "colorway": [
           "#000001",
           "#000002",
           "#000003",
           "#000004",
           "#000005",
           "#000006",
           "#000007",
           "#000008",
           "#000009",
           "#000010"
          ]
         }
        },
        "title": {
         "text": "Listing Vs Current Gains Of Top IPOs"
        },
        "xaxis": {
         "anchor": "y",
         "domain": [
          0,
          1
         ],
         "tickangle": -45,
         "title": {
          "text": "IPO"
         }
        },
        "yaxis": {
         "anchor": "x",
         "domain": [
          0,
          1
         ],
         "title": {
          "text": "Gain(%)"
         }
        }
       }
      }
     },
     "metadata": {},
     "output_type": "display_data"
    }
   ],
   "source": [
    "melted_df = IPO_df.melt(\n",
    "    id_vars=['IPO_Name'],\n",
    "    value_vars=['Listing_Return_%', 'Current Gains'],\n",
    "    var_name='Gain_Type',\n",
    "    value_name='Gain'\n",
    ")\n",
    "\n",
    "top_n =20\n",
    "melted_df = melted_df[melted_df['IPO_Name'].isin(\n",
    "    IPO_df.nlargest(top_n, 'Listing_Return_%' )['IPO_Name']\n",
    ")]\n",
    "\n",
    "fig = px.bar(\n",
    "    melted_df,\n",
    "    x='IPO_Name',\n",
    "    y='Gain',\n",
    "    color='Gain_Type',\n",
    "    barmode='group',\n",
    "    title='Listing Vs Current Gains Of Top IPOs',\n",
    "    labels={'Gain':'Gain(%)', 'IPO_Name':'IPO', 'Gain_Type':'Gain_Type'},\n",
    "    color_discrete_map={\n",
    "        'Listing_Return_%':'green',\n",
    "        'Current Gains':'orange'\n",
    "    }\n",
    ")\n",
    "\n",
    "fig.update_layout(xaxis_tickangle=-45, height=500)\n",
    "fig.write_image('Listing Vs Current Gains Of Top IPOs.png')\n",
    "fig.show()"
   ]
  },
  {
   "cell_type": "markdown",
   "id": "bca4427b",
   "metadata": {},
   "source": [
    "Can we create a heatmap showing correlation between all numeric variables in the dataset?\n"
   ]
  },
  {
   "cell_type": "code",
   "execution_count": 145,
   "id": "6e9fb7fa",
   "metadata": {},
   "outputs": [
    {
     "data": {
      "image/png": "[encoded data removed]",
      "text/plain": [
       "<Figure size 1200x1000 with 2 Axes>"
      ]
     },
     "metadata": {},
     "output_type": "display_data"
    }
   ],
   "source": [
    "import matplotlib.pyplot as plt\n",
    "import seaborn as sns\n",
    "\n",
    "plt.figure(figsize=(12,10))  # Increase figure size for clarity\n",
    "sns.heatmap(corr_matrix, annot=True, fmt=\".2f\", cmap='coolwarm', linewidths=0.5)\n",
    "plt.title(\"Correlation Heatmap of Numeric IPO Variables\")\n",
    "\n",
    "# Save high-quality image\n",
    "plt.savefig(\"correlation_heatmap.png\", dpi=300, bbox_inches='tight')  # dpi=300 for high resolution\n",
    "plt.show()\n",
    "\n",
    "\n",
    "# 1 = perfect positive correlation\n",
    "# -1 = perfect negative correlation\n",
    "# 0 = no correlation\n"
   ]
  },
  {
   "cell_type": "markdown",
   "id": "112d5060",
   "metadata": {},
   "source": [
    "How can we represent the IPO success rate (profitable vs loss-making) visually?\n"
   ]
  },
  {
   "cell_type": "code",
   "execution_count": 142,
   "id": "cf94e647",
   "metadata": {},
   "outputs": [
    {
     "data": {
      "image/png": "[encoded data removed]",
      "text/plain": [
       "<Figure size 640x480 with 1 Axes>"
      ]
     },
     "metadata": {},
     "output_type": "display_data"
    }
   ],
   "source": [
    "IPO_df['Success']= IPO_df['CMP'] >= IPO_df['Offer Price']\n",
    "success_count = IPO_df['Success'].value_counts()\n",
    "\n",
    "plt.Figure(figsize=(6,6))\n",
    "plt.pie(\n",
    "    success_count,\n",
    "    labels=['Profitable', 'Loss_making'],\n",
    "    autopct='%1.1f%%',\n",
    "    startangle=90,\n",
    "    colors=['green', 'red']\n",
    ")\n",
    "\n",
    "plt.title('IPO Success Rate, Profitable vs Loss_making')\n",
    "plt.savefig('IPO Success Rate,  Profitable vs Loss_making.png')\n",
    "plt.show()"
   ]
  }
 ],
 "metadata": {
  "kernelspec": {
   "display_name": "Python 3",
   "language": "python",
   "name": "python3"
  },
  "language_info": {
   "codemirror_mode": {
    "name": "ipython",
    "version": 3
   },
   "file_extension": ".py",
   "mimetype": "text/x-python",
   "name": "python",
   "nbconvert_exporter": "python",
   "pygments_lexer": "ipython3",
   "version": "3.13.7"
  }
 },
 "nbformat": 4,
 "nbformat_minor": 5
}
